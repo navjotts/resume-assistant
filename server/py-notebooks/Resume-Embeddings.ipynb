{
  "nbformat": 4,
  "nbformat_minor": 0,
  "metadata": {
    "colab": {
      "name": "ResumeEmbeddings.ipynb",
      "version": "0.3.2",
      "provenance": [],
      "collapsed_sections": []
    },
    "kernelspec": {
      "name": "python3",
      "display_name": "Python 3"
    }
  },
  "cells": [
    {
      "metadata": {
        "id": "f4TkLqjSpG9W",
        "colab_type": "text"
      },
      "cell_type": "markdown",
      "source": [
        "#Google Colab"
      ]
    },
    {
      "metadata": {
        "id": "2E9-i1GB8jjE",
        "colab_type": "text"
      },
      "cell_type": "markdown",
      "source": [
        "## Setup"
      ]
    },
    {
      "metadata": {
        "id": "dU8f22Zclmrz",
        "colab_type": "code",
        "colab": {}
      },
      "cell_type": "code",
      "source": [
        "!pip install -U -q PyDrive"
      ],
      "execution_count": 0,
      "outputs": []
    },
    {
      "metadata": {
        "id": "BFEPpq6Beka6",
        "colab_type": "code",
        "colab": {}
      },
      "cell_type": "code",
      "source": [
        "!pip install --upgrade gensim"
      ],
      "execution_count": 0,
      "outputs": []
    },
    {
      "metadata": {
        "id": "ZkHcyUkYelPb",
        "colab_type": "code",
        "colab": {}
      },
      "cell_type": "code",
      "source": [
        "!pip install -U spacy"
      ],
      "execution_count": 0,
      "outputs": []
    },
    {
      "metadata": {
        "id": "AvNAkMdHeomS",
        "colab_type": "code",
        "colab": {}
      },
      "cell_type": "code",
      "source": [
        "!python -m spacy download en"
      ],
      "execution_count": 0,
      "outputs": []
    },
    {
      "metadata": {
        "id": "Qgr2X-P08lG8",
        "colab_type": "text"
      },
      "cell_type": "markdown",
      "source": [
        "## Tokenization"
      ]
    },
    {
      "metadata": {
        "id": "K15_gnz_evwS",
        "colab_type": "code",
        "colab": {}
      },
      "cell_type": "code",
      "source": [
        "import codecs\n",
        "import spacy\n",
        "\n",
        "nlp = spacy.load('en')\n",
        "nlp.max_length = 2000000\n",
        "\n",
        "def tokenize_file(file_name):  \n",
        "  sents = []\n",
        "  with codecs.open(file_name, \"r\", \"utf-8\") as file:\n",
        "    doc = nlp(file.read())\n",
        "    sentence = []\n",
        "    for t in doc:\n",
        "      if t.is_sent_start:\n",
        "        if len(sentence)>0:\n",
        "          sents.append(sentence)\n",
        "        sentence = []        \n",
        "      if not t.is_space and not t.is_stop and not t.is_punct:\n",
        "        sentence.append(t.text)\n",
        "        \n",
        "  return sents"
      ],
      "execution_count": 0,
      "outputs": []
    },
    {
      "metadata": {
        "id": "7CGPSV8Kd7hL",
        "colab_type": "code",
        "colab": {
          "base_uri": "https://localhost:8080/",
          "height": 2023
        },
        "outputId": "8303fd61-4655-4a01-a3f8-358885243451"
      },
      "cell_type": "code",
      "source": [
        "from pydrive.auth import GoogleAuth\n",
        "from pydrive.drive import GoogleDrive\n",
        "from google.colab import auth\n",
        "from oauth2client.client import GoogleCredentials\n",
        "\n",
        "auth.authenticate_user()\n",
        "gauth = GoogleAuth()\n",
        "gauth.credentials = GoogleCredentials.get_application_default()\n",
        "drive = GoogleDrive(gauth)\n",
        "\n",
        "folder_list = drive.ListFile({'q': \"'root' in parents and trashed=false and mimeType='application/vnd.google-apps.folder'\"}).GetList()\n",
        "for folder in folder_list:\n",
        "  if folder['title'] == 'resume-corpus':\n",
        "    req_folder_id = folder['id']\n",
        "    break\n",
        "\n",
        "sentences = []\n",
        "file_list = drive.ListFile({'q': \"'%s' in parents and trashed=false\" % req_folder_id}).GetList()\n",
        "for file in file_list:\n",
        "  print('file: %s, id: %s' % (file['title'], file['id']))\n",
        "  download = drive.CreateFile({'id': file['id']})\n",
        "  download.GetContentFile(file['title'])\n",
        "  sentences.extend(tokenize_file(file['title']))\n",
        "  print('sentences:', len(sentences))"
      ],
      "execution_count": 7,
      "outputs": [
        {
          "output_type": "stream",
          "text": [
            "file: resume-61.txt, id: 1kiLrlZjE-9YJ6ktojJuxCp1FfVoiRURH\n",
            "sentences: 42\n",
            "file: resume-58.txt, id: 16RWqSatUDA_DYFu5tcPxp3UpQuE_BnJC\n",
            "sentences: 67\n",
            "file: resume-65.txt, id: 1E0q5ywv9jeFxO2ZBNZjXsLyVdYoIEmWS\n",
            "sentences: 79\n",
            "file: resume-60.txt, id: 14dZqyIKvtJxhSSedSPMT3K6itENbCMQJ\n",
            "sentences: 79\n",
            "file: resume-57.txt, id: 1Zk8S1NdQ_wpjIIhOzFwInWr6h_nGr29x\n",
            "sentences: 106\n",
            "file: resume-59.txt, id: 1P_nXgNc0-l7NqLhtyceJBKCc2jmBkN9V\n",
            "sentences: 143\n",
            "file: resume-63.txt, id: 1gsuQRGQuLv4iC5fiDELr38G77BhLRSjl\n",
            "sentences: 164\n",
            "file: resume-64.txt, id: 1zflje_unWV7kNhUOwrxU3SvDmPF6t8yP\n",
            "sentences: 209\n",
            "file: resume-56.txt, id: 1dWwyV2irs8Gx2rZk7N9qhSnR5vv98hWN\n",
            "sentences: 242\n",
            "file: resume-45.txt, id: 1U387QFUamZfFyISyYtZp6DkG-Z_jCjsO\n",
            "sentences: 272\n",
            "file: resume-50.txt, id: 1dbkzP-3Bm85sNRg2uhYWLagYtQGi3EpX\n",
            "sentences: 298\n",
            "file: resume-49.txt, id: 1bnsmFUn5zgvYa3l5KZk9x02LopbeWFSe\n",
            "sentences: 298\n",
            "file: resume-53.txt, id: 1NGVN6UovrYY2r2KeL3KKIPGcSt4kQO_U\n",
            "sentences: 321\n",
            "file: resume-51.txt, id: 1rgl_P7UtxUbaogRIv8aqsYKgcow5tobF\n",
            "sentences: 368\n",
            "file: resume-46.txt, id: 1VN8AAX6ufxfBTRsiOIMLbX8XmuGnlsJ7\n",
            "sentences: 403\n",
            "file: resume-52.txt, id: 1Bu_KkgFb7QozPIrtjUKvCwFkm-JzkYM1\n",
            "sentences: 450\n",
            "file: resume-48.txt, id: 19GTfQtKSAiIldAilCP0uMCCjDyjgpA5h\n",
            "sentences: 495\n",
            "file: resume-54.txt, id: 1SBBzaVU6cbrGycLO9BlNPcOE4DOACeXg\n",
            "sentences: 526\n",
            "file: resume-44.txt, id: 1ibM26WY23whh656odB1HHGIcLrgMxKGs\n",
            "sentences: 550\n",
            "file: resume-41.txt, id: 1tXzdnY9v5hOgWDcZTdiwUF_VT-IW4ur6\n",
            "sentences: 640\n",
            "file: resume-34.txt, id: 1BSkTOmVTtsjQtMztnT0ylCs0x-ujiCpb\n",
            "sentences: 685\n",
            "file: resume-43.txt, id: 1zZGgLgRlwM6_BSRiTrCzklG4sr3M0E38\n",
            "sentences: 714\n",
            "file: resume-35.txt, id: 1XrIsjvEPS7N-V1dRzgSRIq5cRqypi9D1\n",
            "sentences: 735\n",
            "file: resume-40.txt, id: 1Bd8BuioKlproF_mOVQb-kj6m45113NNI\n",
            "sentences: 750\n",
            "file: resume-38.txt, id: 1JkA_lYuEswbTRldynGpAuFvx5sGgXSML\n",
            "sentences: 823\n",
            "file: resume-39.txt, id: 1HfqLfSCOR56Mg9oVpng8BWg7vDGpll_e\n",
            "sentences: 868\n",
            "file: resume-37.txt, id: 1qyAyQooVOf67CDZOKoLFGoFEFV5KkCEO\n",
            "sentences: 913\n",
            "file: resume-42.txt, id: 1cOU__0k7uYP-5WzD7L72SjvNl6NeYfeK\n",
            "sentences: 953\n",
            "file: resume-33.txt, id: 1-mPK6BhjSsC_nOdLdD569Zma_MXFQcCD\n",
            "sentences: 1079\n",
            "file: resume-31.txt, id: 1jpURdkwFNzNl8csdpWLWsWVrXtqGQZwc\n",
            "sentences: 1143\n",
            "file: resume-32.txt, id: 1cznkYvrtMdezXqsjWkRZ8HBUMtPLIari\n",
            "sentences: 1169\n",
            "file: resume-27.txt, id: 1Sjwkrr7GhXfQkj7AG1lr32mM_wUu4RhU\n",
            "sentences: 1189\n",
            "file: resume-24.txt, id: 1hFLnIkUTyKF5VyxdS60DC6JiGv-YFzaT\n",
            "sentences: 1212\n",
            "file: resume-25.txt, id: 17yQ2Ko3vJnXbknnW55G7n8_581tbhddp\n",
            "sentences: 1254\n",
            "file: resume-28.txt, id: 1DnUOvhwCJ7Jw-c8XVZy_0ui_bu4s-7jI\n",
            "sentences: 1272\n",
            "file: resume-29.txt, id: 1rZPqVt2GRZZXS2O7wR4H0iFgq-XGToSh\n",
            "sentences: 1304\n",
            "file: resume-26.txt, id: 17aFh2QUH1X8A3I34fu1S2aUxXOxkcp7P\n",
            "sentences: 1340\n",
            "file: resume-30.txt, id: 1IubaIDzhkFzL57a0sM1dZb9DKUQqG1kq\n",
            "sentences: 1362\n",
            "file: resume-22.txt, id: 1dmZTp9Mxi5hINZu5CrWLIkL-mW6D-3Rk\n",
            "sentences: 1417\n",
            "file: resume-20.txt, id: 1VNYLaHS4yptUgvcDdNkkoNoc8q3R8Rhn\n",
            "sentences: 1452\n",
            "file: resume-17.txt, id: 1a5leAc7PAqXfx88D2NToqEnXmP2E3jmz\n",
            "sentences: 1475\n",
            "file: resume-15.txt, id: 1uKZEnBqHhVU72gXYaoQK6DCvYJD8IiRB\n",
            "sentences: 1493\n",
            "file: resume-16.txt, id: 1y0vho7EOWGmQudyIMWFXAdlKZe5f8z4w\n",
            "sentences: 1503\n",
            "file: resume-14.txt, id: 1JBUq-vu_N2HUEhcemqI-R7qnwINPx_Bp\n",
            "sentences: 1520\n",
            "file: resume-21.txt, id: 1J-ECLXnQv3NlqQql0IOIsO5Kz-jYylfW\n",
            "sentences: 1520\n",
            "file: resume-12.txt, id: 16WEmaJhbkHtiMUx41GkHMTJGHCWdO-Q0\n",
            "sentences: 1566\n",
            "file: resume-13.txt, id: 1kAD-_cd7ErzpayJoAfg4rqb2DNjozaQ5\n",
            "sentences: 1592\n",
            "file: resume-18.txt, id: 15htP4R1LUKrbXrREfBekMAwrPR_gLjOR\n",
            "sentences: 1617\n",
            "file: resume-11.txt, id: 1CevkBIaKMh5rwEbwsmv-Gl_XIBTLCcVq\n",
            "sentences: 1664\n",
            "file: resume-10.txt, id: 1utNq8T6UHGVYBrWLeR_kzrse-E_H62AA\n",
            "sentences: 1690\n",
            "file: resume-7.txt, id: 1qNuuQ4MqNsoUBSygpB0LU9UfCotbHC8Z\n",
            "sentences: 1707\n",
            "file: resume-8.txt, id: 19lNkb9pzAR2AuqwivXk31A2wff6GoV64\n",
            "sentences: 1794\n",
            "file: resume-4.txt, id: 1YSOeT1jE8-UZ9qsb3uVBlTUi3_uYnnsP\n",
            "sentences: 1809\n",
            "file: resume-6.txt, id: 18KM2ZX4KOQ2ymRmX0UhgiAexVDJ5xwgn\n",
            "sentences: 1824\n",
            "file: resume-2.txt, id: 1pWelQhO-N2HkMuXMv3YxxNOoa7b_hWnc\n",
            "sentences: 1874\n",
            "file: resume-9.txt, id: 1sx1pIhp2LGGjwXa-qtYH1oc4WKZuoI51\n",
            "sentences: 1908\n",
            "file: resume-3.txt, id: 1Y-CLIzRlf-bY3aSo63WiKKHcvziRcKNk\n",
            "sentences: 1971\n",
            "file: resume-5.txt, id: 1uo_w9pGmz26LJAR-ibcqwC7Vim6uJ-OC\n",
            "sentences: 1983\n",
            "file: resume-1.txt, id: 1jsU3RMhSKYq7nLHnsQmn7AbR-xPPa1ND\n",
            "sentences: 2005\n"
          ],
          "name": "stdout"
        }
      ]
    },
    {
      "metadata": {
        "id": "_dtLbnOkewpp",
        "colab_type": "code",
        "colab": {
          "base_uri": "https://localhost:8080/",
          "height": 476
        },
        "outputId": "46ad8e1c-6628-4ba7-9523-0af9d0bbcd67"
      },
      "cell_type": "code",
      "source": [
        "sentences[0:5]"
      ],
      "execution_count": 8,
      "outputs": [
        {
          "output_type": "execute_result",
          "data": {
            "text/plain": [
              "[['Peter',\n",
              "  'Gray',\n",
              "  'Full',\n",
              "  'Stack',\n",
              "  'Software',\n",
              "  'Engineer',\n",
              "  'Personal',\n",
              "  'Info',\n",
              "  'Projects',\n",
              "  'Phone',\n",
              "  'Ghost',\n",
              "  'Texts',\n",
              "  '918',\n",
              "  '946',\n",
              "  '6092',\n",
              "  'Anonymous',\n",
              "  'text',\n",
              "  'message',\n",
              "  'app',\n",
              "  'built',\n",
              "  'React',\n",
              "  'Node',\n",
              "  'Express'],\n",
              " ['Integrates', 'Stripe', 'E', 'mail', 'Twilio'],\n",
              " ['I', 'built', '90', 'features', 'end', 'end', '2', 'weeks'],\n",
              " ['peter@petergraycreative.com'],\n",
              " ['http://www.ghosttexts.com']]"
            ]
          },
          "metadata": {
            "tags": []
          },
          "execution_count": 8
        }
      ]
    },
    {
      "metadata": {
        "id": "m02PgYwXnLmr",
        "colab_type": "code",
        "colab": {}
      },
      "cell_type": "code",
      "source": [
        "import logging\n",
        "logging.basicConfig(format='%(asctime)s : %(levelname)s : %(message)s', level=logging.INFO)"
      ],
      "execution_count": 0,
      "outputs": []
    },
    {
      "metadata": {
        "id": "LsH7B0Eo8qx3",
        "colab_type": "text"
      },
      "cell_type": "markdown",
      "source": [
        "## word2vec"
      ]
    },
    {
      "metadata": {
        "id": "XZj5UuNKoGvJ",
        "colab_type": "code",
        "colab": {
          "base_uri": "https://localhost:8080/",
          "height": 34
        },
        "outputId": "760d8ff9-27b9-405c-ee03-b20f4616eadb"
      },
      "cell_type": "code",
      "source": [
        "import gensim.models.word2vec as w2v\n",
        "\n",
        "model = w2v.Word2Vec(min_count=3, \n",
        "                     window=7, \n",
        "                     size=100,\n",
        "                     seed=42)"
      ],
      "execution_count": 10,
      "outputs": [
        {
          "output_type": "stream",
          "text": [
            "2018-08-11 18:56:46,534 : INFO : 'pattern' package not found; tag filters are not available for English\n"
          ],
          "name": "stderr"
        }
      ]
    },
    {
      "metadata": {
        "id": "TuwRQxTfoJDK",
        "colab_type": "code",
        "colab": {
          "base_uri": "https://localhost:8080/",
          "height": 204
        },
        "outputId": "7c3e50b4-66b6-40a6-ec76-89c6622301dc"
      },
      "cell_type": "code",
      "source": [
        "model.build_vocab(sentences)"
      ],
      "execution_count": 11,
      "outputs": [
        {
          "output_type": "stream",
          "text": [
            "2018-08-11 18:56:47,102 : INFO : collecting all words and their counts\n",
            "2018-08-11 18:56:47,104 : INFO : PROGRESS: at sentence #0, processed 0 words, keeping 0 word types\n",
            "2018-08-11 18:56:47,116 : INFO : collected 6121 word types from a corpus of 17642 raw words and 2005 sentences\n",
            "2018-08-11 18:56:47,118 : INFO : Loading a fresh vocabulary\n",
            "2018-08-11 18:56:47,129 : INFO : effective_min_count=3 retains 1292 unique words (21% of original 6121, drops 4829)\n",
            "2018-08-11 18:56:47,130 : INFO : effective_min_count=3 leaves 11794 word corpus (66% of original 17642, drops 5848)\n",
            "2018-08-11 18:56:47,139 : INFO : deleting the raw counts dictionary of 6121 items\n",
            "2018-08-11 18:56:47,141 : INFO : sample=0.001 downsamples 66 most-common words\n",
            "2018-08-11 18:56:47,142 : INFO : downsampling leaves estimated 10669 word corpus (90.5% of prior 11794)\n",
            "2018-08-11 18:56:47,148 : INFO : estimated required memory for 1292 words and 100 dimensions: 1679600 bytes\n",
            "2018-08-11 18:56:47,150 : INFO : resetting layer weights\n"
          ],
          "name": "stderr"
        }
      ]
    },
    {
      "metadata": {
        "id": "vZa9h8hyoMNh",
        "colab_type": "code",
        "colab": {
          "base_uri": "https://localhost:8080/",
          "height": 34
        },
        "outputId": "f581bc27-be7a-45d2-b87f-798c985e8302"
      },
      "cell_type": "code",
      "source": [
        "print(model)"
      ],
      "execution_count": 12,
      "outputs": [
        {
          "output_type": "stream",
          "text": [
            "Word2Vec(vocab=1292, size=100, alpha=0.025)\n"
          ],
          "name": "stdout"
        }
      ]
    },
    {
      "metadata": {
        "id": "UYOkSHeooN1w",
        "colab_type": "code",
        "colab": {
          "base_uri": "https://localhost:8080/",
          "height": 6868
        },
        "outputId": "4ca196e9-87bf-470a-b272-28e0ba2fc932"
      },
      "cell_type": "code",
      "source": [
        "model.train(sentences, \n",
        "            total_examples=len(sentences), \n",
        "            epochs=100)"
      ],
      "execution_count": 13,
      "outputs": [
        {
          "output_type": "stream",
          "text": [
            "2018-08-11 18:56:48,126 : INFO : training model with 3 workers on 1292 vocabulary and 100 features, using sg=0 hs=0 sample=0.001 negative=5 window=7\n",
            "2018-08-11 18:56:48,143 : INFO : worker thread finished; awaiting finish of 2 more threads\n",
            "2018-08-11 18:56:48,159 : INFO : worker thread finished; awaiting finish of 1 more threads\n",
            "2018-08-11 18:56:48,160 : INFO : worker thread finished; awaiting finish of 0 more threads\n",
            "2018-08-11 18:56:48,162 : INFO : EPOCH - 1 : training on 17642 raw words (10697 effective words) took 0.0s, 488069 effective words/s\n",
            "2018-08-11 18:56:48,176 : INFO : worker thread finished; awaiting finish of 2 more threads\n",
            "2018-08-11 18:56:48,192 : INFO : worker thread finished; awaiting finish of 1 more threads\n",
            "2018-08-11 18:56:48,196 : INFO : worker thread finished; awaiting finish of 0 more threads\n",
            "2018-08-11 18:56:48,197 : INFO : EPOCH - 2 : training on 17642 raw words (10688 effective words) took 0.0s, 449940 effective words/s\n",
            "2018-08-11 18:56:48,209 : INFO : worker thread finished; awaiting finish of 2 more threads\n",
            "2018-08-11 18:56:48,224 : INFO : worker thread finished; awaiting finish of 1 more threads\n",
            "2018-08-11 18:56:48,227 : INFO : worker thread finished; awaiting finish of 0 more threads\n",
            "2018-08-11 18:56:48,229 : INFO : EPOCH - 3 : training on 17642 raw words (10654 effective words) took 0.0s, 464533 effective words/s\n",
            "2018-08-11 18:56:48,240 : INFO : worker thread finished; awaiting finish of 2 more threads\n",
            "2018-08-11 18:56:48,258 : INFO : worker thread finished; awaiting finish of 1 more threads\n",
            "2018-08-11 18:56:48,263 : INFO : worker thread finished; awaiting finish of 0 more threads\n",
            "2018-08-11 18:56:48,264 : INFO : EPOCH - 4 : training on 17642 raw words (10619 effective words) took 0.0s, 400800 effective words/s\n",
            "2018-08-11 18:56:48,275 : INFO : worker thread finished; awaiting finish of 2 more threads\n",
            "2018-08-11 18:56:48,291 : INFO : worker thread finished; awaiting finish of 1 more threads\n",
            "2018-08-11 18:56:48,292 : INFO : worker thread finished; awaiting finish of 0 more threads\n",
            "2018-08-11 18:56:48,298 : INFO : EPOCH - 5 : training on 17642 raw words (10644 effective words) took 0.0s, 424758 effective words/s\n",
            "2018-08-11 18:56:48,308 : INFO : worker thread finished; awaiting finish of 2 more threads\n",
            "2018-08-11 18:56:48,323 : INFO : worker thread finished; awaiting finish of 1 more threads\n",
            "2018-08-11 18:56:48,329 : INFO : worker thread finished; awaiting finish of 0 more threads\n",
            "2018-08-11 18:56:48,330 : INFO : EPOCH - 6 : training on 17642 raw words (10634 effective words) took 0.0s, 446304 effective words/s\n",
            "2018-08-11 18:56:48,339 : INFO : worker thread finished; awaiting finish of 2 more threads\n",
            "2018-08-11 18:56:48,355 : INFO : worker thread finished; awaiting finish of 1 more threads\n",
            "2018-08-11 18:56:48,362 : INFO : worker thread finished; awaiting finish of 0 more threads\n",
            "2018-08-11 18:56:48,363 : INFO : EPOCH - 7 : training on 17642 raw words (10701 effective words) took 0.0s, 413803 effective words/s\n",
            "2018-08-11 18:56:48,375 : INFO : worker thread finished; awaiting finish of 2 more threads\n",
            "2018-08-11 18:56:48,391 : INFO : worker thread finished; awaiting finish of 1 more threads\n",
            "2018-08-11 18:56:48,396 : INFO : worker thread finished; awaiting finish of 0 more threads\n",
            "2018-08-11 18:56:48,399 : INFO : EPOCH - 8 : training on 17642 raw words (10662 effective words) took 0.0s, 411843 effective words/s\n",
            "2018-08-11 18:56:48,412 : INFO : worker thread finished; awaiting finish of 2 more threads\n",
            "2018-08-11 18:56:48,427 : INFO : worker thread finished; awaiting finish of 1 more threads\n",
            "2018-08-11 18:56:48,434 : INFO : worker thread finished; awaiting finish of 0 more threads\n",
            "2018-08-11 18:56:48,435 : INFO : EPOCH - 9 : training on 17642 raw words (10651 effective words) took 0.0s, 394177 effective words/s\n",
            "2018-08-11 18:56:48,445 : INFO : worker thread finished; awaiting finish of 2 more threads\n",
            "2018-08-11 18:56:48,462 : INFO : worker thread finished; awaiting finish of 1 more threads\n",
            "2018-08-11 18:56:48,467 : INFO : worker thread finished; awaiting finish of 0 more threads\n",
            "2018-08-11 18:56:48,468 : INFO : EPOCH - 10 : training on 17642 raw words (10671 effective words) took 0.0s, 425331 effective words/s\n",
            "2018-08-11 18:56:48,478 : INFO : worker thread finished; awaiting finish of 2 more threads\n",
            "2018-08-11 18:56:48,495 : INFO : worker thread finished; awaiting finish of 1 more threads\n",
            "2018-08-11 18:56:48,500 : INFO : worker thread finished; awaiting finish of 0 more threads\n",
            "2018-08-11 18:56:48,501 : INFO : EPOCH - 11 : training on 17642 raw words (10667 effective words) took 0.0s, 411692 effective words/s\n",
            "2018-08-11 18:56:48,512 : INFO : worker thread finished; awaiting finish of 2 more threads\n",
            "2018-08-11 18:56:48,527 : INFO : worker thread finished; awaiting finish of 1 more threads\n",
            "2018-08-11 18:56:48,530 : INFO : worker thread finished; awaiting finish of 0 more threads\n",
            "2018-08-11 18:56:48,532 : INFO : EPOCH - 12 : training on 17642 raw words (10627 effective words) took 0.0s, 465111 effective words/s\n",
            "2018-08-11 18:56:48,542 : INFO : worker thread finished; awaiting finish of 2 more threads\n",
            "2018-08-11 18:56:48,559 : INFO : worker thread finished; awaiting finish of 1 more threads\n",
            "2018-08-11 18:56:48,563 : INFO : worker thread finished; awaiting finish of 0 more threads\n",
            "2018-08-11 18:56:48,565 : INFO : EPOCH - 13 : training on 17642 raw words (10667 effective words) took 0.0s, 428513 effective words/s\n",
            "2018-08-11 18:56:48,575 : INFO : worker thread finished; awaiting finish of 2 more threads\n",
            "2018-08-11 18:56:48,589 : INFO : worker thread finished; awaiting finish of 1 more threads\n",
            "2018-08-11 18:56:48,594 : INFO : worker thread finished; awaiting finish of 0 more threads\n",
            "2018-08-11 18:56:48,597 : INFO : EPOCH - 14 : training on 17642 raw words (10701 effective words) took 0.0s, 440408 effective words/s\n",
            "2018-08-11 18:56:48,607 : INFO : worker thread finished; awaiting finish of 2 more threads\n",
            "2018-08-11 18:56:48,626 : INFO : worker thread finished; awaiting finish of 1 more threads\n",
            "2018-08-11 18:56:48,629 : INFO : worker thread finished; awaiting finish of 0 more threads\n",
            "2018-08-11 18:56:48,631 : INFO : EPOCH - 15 : training on 17642 raw words (10642 effective words) took 0.0s, 411891 effective words/s\n",
            "2018-08-11 18:56:48,641 : INFO : worker thread finished; awaiting finish of 2 more threads\n",
            "2018-08-11 18:56:48,657 : INFO : worker thread finished; awaiting finish of 1 more threads\n",
            "2018-08-11 18:56:48,659 : INFO : worker thread finished; awaiting finish of 0 more threads\n",
            "2018-08-11 18:56:48,661 : INFO : EPOCH - 16 : training on 17642 raw words (10627 effective words) took 0.0s, 469133 effective words/s\n",
            "2018-08-11 18:56:48,673 : INFO : worker thread finished; awaiting finish of 2 more threads\n",
            "2018-08-11 18:56:48,689 : INFO : worker thread finished; awaiting finish of 1 more threads\n",
            "2018-08-11 18:56:48,693 : INFO : worker thread finished; awaiting finish of 0 more threads\n",
            "2018-08-11 18:56:48,696 : INFO : EPOCH - 17 : training on 17642 raw words (10657 effective words) took 0.0s, 418078 effective words/s\n",
            "2018-08-11 18:56:48,708 : INFO : worker thread finished; awaiting finish of 2 more threads\n",
            "2018-08-11 18:56:48,723 : INFO : worker thread finished; awaiting finish of 1 more threads\n",
            "2018-08-11 18:56:48,728 : INFO : worker thread finished; awaiting finish of 0 more threads\n",
            "2018-08-11 18:56:48,729 : INFO : EPOCH - 18 : training on 17642 raw words (10675 effective words) took 0.0s, 449685 effective words/s\n",
            "2018-08-11 18:56:48,740 : INFO : worker thread finished; awaiting finish of 2 more threads\n",
            "2018-08-11 18:56:48,762 : INFO : worker thread finished; awaiting finish of 1 more threads\n",
            "2018-08-11 18:56:48,763 : INFO : worker thread finished; awaiting finish of 0 more threads\n",
            "2018-08-11 18:56:48,764 : INFO : EPOCH - 19 : training on 17642 raw words (10712 effective words) took 0.0s, 399578 effective words/s\n",
            "2018-08-11 18:56:48,777 : INFO : worker thread finished; awaiting finish of 2 more threads\n",
            "2018-08-11 18:56:48,790 : INFO : worker thread finished; awaiting finish of 1 more threads\n",
            "2018-08-11 18:56:48,798 : INFO : worker thread finished; awaiting finish of 0 more threads\n",
            "2018-08-11 18:56:48,799 : INFO : EPOCH - 20 : training on 17642 raw words (10697 effective words) took 0.0s, 411663 effective words/s\n",
            "2018-08-11 18:56:48,810 : INFO : worker thread finished; awaiting finish of 2 more threads\n",
            "2018-08-11 18:56:48,827 : INFO : worker thread finished; awaiting finish of 1 more threads\n",
            "2018-08-11 18:56:48,829 : INFO : worker thread finished; awaiting finish of 0 more threads\n",
            "2018-08-11 18:56:48,830 : INFO : EPOCH - 21 : training on 17642 raw words (10650 effective words) took 0.0s, 474166 effective words/s\n",
            "2018-08-11 18:56:48,843 : INFO : worker thread finished; awaiting finish of 2 more threads\n",
            "2018-08-11 18:56:48,862 : INFO : worker thread finished; awaiting finish of 1 more threads\n",
            "2018-08-11 18:56:48,864 : INFO : worker thread finished; awaiting finish of 0 more threads\n",
            "2018-08-11 18:56:48,865 : INFO : EPOCH - 22 : training on 17642 raw words (10703 effective words) took 0.0s, 425452 effective words/s\n",
            "2018-08-11 18:56:48,879 : INFO : worker thread finished; awaiting finish of 2 more threads\n",
            "2018-08-11 18:56:48,894 : INFO : worker thread finished; awaiting finish of 1 more threads\n",
            "2018-08-11 18:56:48,900 : INFO : worker thread finished; awaiting finish of 0 more threads\n",
            "2018-08-11 18:56:48,902 : INFO : EPOCH - 23 : training on 17642 raw words (10646 effective words) took 0.0s, 414014 effective words/s\n",
            "2018-08-11 18:56:48,914 : INFO : worker thread finished; awaiting finish of 2 more threads\n",
            "2018-08-11 18:56:48,932 : INFO : worker thread finished; awaiting finish of 1 more threads\n",
            "2018-08-11 18:56:48,933 : INFO : worker thread finished; awaiting finish of 0 more threads\n",
            "2018-08-11 18:56:48,934 : INFO : EPOCH - 24 : training on 17642 raw words (10621 effective words) took 0.0s, 461900 effective words/s\n",
            "2018-08-11 18:56:48,949 : INFO : worker thread finished; awaiting finish of 2 more threads\n",
            "2018-08-11 18:56:48,962 : INFO : worker thread finished; awaiting finish of 1 more threads\n",
            "2018-08-11 18:56:48,971 : INFO : worker thread finished; awaiting finish of 0 more threads\n",
            "2018-08-11 18:56:48,972 : INFO : EPOCH - 25 : training on 17642 raw words (10656 effective words) took 0.0s, 345029 effective words/s\n",
            "2018-08-11 18:56:48,984 : INFO : worker thread finished; awaiting finish of 2 more threads\n",
            "2018-08-11 18:56:49,001 : INFO : worker thread finished; awaiting finish of 1 more threads\n",
            "2018-08-11 18:56:49,006 : INFO : worker thread finished; awaiting finish of 0 more threads\n",
            "2018-08-11 18:56:49,007 : INFO : EPOCH - 26 : training on 17642 raw words (10666 effective words) took 0.0s, 409922 effective words/s\n",
            "2018-08-11 18:56:49,016 : INFO : worker thread finished; awaiting finish of 2 more threads\n",
            "2018-08-11 18:56:49,035 : INFO : worker thread finished; awaiting finish of 1 more threads\n",
            "2018-08-11 18:56:49,038 : INFO : worker thread finished; awaiting finish of 0 more threads\n",
            "2018-08-11 18:56:49,039 : INFO : EPOCH - 27 : training on 17642 raw words (10707 effective words) took 0.0s, 425103 effective words/s\n",
            "2018-08-11 18:56:49,050 : INFO : worker thread finished; awaiting finish of 2 more threads\n",
            "2018-08-11 18:56:49,066 : INFO : worker thread finished; awaiting finish of 1 more threads\n",
            "2018-08-11 18:56:49,069 : INFO : worker thread finished; awaiting finish of 0 more threads\n",
            "2018-08-11 18:56:49,070 : INFO : EPOCH - 28 : training on 17642 raw words (10635 effective words) took 0.0s, 457719 effective words/s\n",
            "2018-08-11 18:56:49,082 : INFO : worker thread finished; awaiting finish of 2 more threads\n",
            "2018-08-11 18:56:49,099 : INFO : worker thread finished; awaiting finish of 1 more threads\n",
            "2018-08-11 18:56:49,102 : INFO : worker thread finished; awaiting finish of 0 more threads\n",
            "2018-08-11 18:56:49,104 : INFO : EPOCH - 29 : training on 17642 raw words (10638 effective words) took 0.0s, 428114 effective words/s\n",
            "2018-08-11 18:56:49,120 : INFO : worker thread finished; awaiting finish of 2 more threads\n",
            "2018-08-11 18:56:49,135 : INFO : worker thread finished; awaiting finish of 1 more threads\n",
            "2018-08-11 18:56:49,137 : INFO : worker thread finished; awaiting finish of 0 more threads\n",
            "2018-08-11 18:56:49,140 : INFO : EPOCH - 30 : training on 17642 raw words (10674 effective words) took 0.0s, 404474 effective words/s\n",
            "2018-08-11 18:56:49,151 : INFO : worker thread finished; awaiting finish of 2 more threads\n",
            "2018-08-11 18:56:49,166 : INFO : worker thread finished; awaiting finish of 1 more threads\n",
            "2018-08-11 18:56:49,171 : INFO : worker thread finished; awaiting finish of 0 more threads\n",
            "2018-08-11 18:56:49,173 : INFO : EPOCH - 31 : training on 17642 raw words (10669 effective words) took 0.0s, 438972 effective words/s\n",
            "2018-08-11 18:56:49,185 : INFO : worker thread finished; awaiting finish of 2 more threads\n",
            "2018-08-11 18:56:49,201 : INFO : worker thread finished; awaiting finish of 1 more threads\n",
            "2018-08-11 18:56:49,206 : INFO : worker thread finished; awaiting finish of 0 more threads\n",
            "2018-08-11 18:56:49,207 : INFO : EPOCH - 32 : training on 17642 raw words (10710 effective words) took 0.0s, 426883 effective words/s\n",
            "2018-08-11 18:56:49,217 : INFO : worker thread finished; awaiting finish of 2 more threads\n",
            "2018-08-11 18:56:49,235 : INFO : worker thread finished; awaiting finish of 1 more threads\n",
            "2018-08-11 18:56:49,239 : INFO : worker thread finished; awaiting finish of 0 more threads\n",
            "2018-08-11 18:56:49,242 : INFO : EPOCH - 33 : training on 17642 raw words (10678 effective words) took 0.0s, 399515 effective words/s\n",
            "2018-08-11 18:56:49,257 : INFO : worker thread finished; awaiting finish of 2 more threads\n",
            "2018-08-11 18:56:49,272 : INFO : worker thread finished; awaiting finish of 1 more threads\n",
            "2018-08-11 18:56:49,274 : INFO : worker thread finished; awaiting finish of 0 more threads\n",
            "2018-08-11 18:56:49,275 : INFO : EPOCH - 34 : training on 17642 raw words (10674 effective words) took 0.0s, 482809 effective words/s\n",
            "2018-08-11 18:56:49,286 : INFO : worker thread finished; awaiting finish of 2 more threads\n",
            "2018-08-11 18:56:49,303 : INFO : worker thread finished; awaiting finish of 1 more threads\n",
            "2018-08-11 18:56:49,309 : INFO : worker thread finished; awaiting finish of 0 more threads\n",
            "2018-08-11 18:56:49,311 : INFO : EPOCH - 35 : training on 17642 raw words (10671 effective words) took 0.0s, 398734 effective words/s\n",
            "2018-08-11 18:56:49,322 : INFO : worker thread finished; awaiting finish of 2 more threads\n",
            "2018-08-11 18:56:49,338 : INFO : worker thread finished; awaiting finish of 1 more threads\n",
            "2018-08-11 18:56:49,341 : INFO : worker thread finished; awaiting finish of 0 more threads\n",
            "2018-08-11 18:56:49,344 : INFO : EPOCH - 36 : training on 17642 raw words (10685 effective words) took 0.0s, 428012 effective words/s\n",
            "2018-08-11 18:56:49,359 : INFO : worker thread finished; awaiting finish of 2 more threads\n",
            "2018-08-11 18:56:49,374 : INFO : worker thread finished; awaiting finish of 1 more threads\n",
            "2018-08-11 18:56:49,375 : INFO : worker thread finished; awaiting finish of 0 more threads\n",
            "2018-08-11 18:56:49,376 : INFO : EPOCH - 37 : training on 17642 raw words (10707 effective words) took 0.0s, 440832 effective words/s\n",
            "2018-08-11 18:56:49,389 : INFO : worker thread finished; awaiting finish of 2 more threads\n",
            "2018-08-11 18:56:49,407 : INFO : worker thread finished; awaiting finish of 1 more threads\n",
            "2018-08-11 18:56:49,409 : INFO : worker thread finished; awaiting finish of 0 more threads\n",
            "2018-08-11 18:56:49,411 : INFO : EPOCH - 38 : training on 17642 raw words (10703 effective words) took 0.0s, 415494 effective words/s\n",
            "2018-08-11 18:56:49,425 : INFO : worker thread finished; awaiting finish of 2 more threads\n",
            "2018-08-11 18:56:49,442 : INFO : worker thread finished; awaiting finish of 1 more threads\n",
            "2018-08-11 18:56:49,448 : INFO : worker thread finished; awaiting finish of 0 more threads\n",
            "2018-08-11 18:56:49,451 : INFO : EPOCH - 39 : training on 17642 raw words (10695 effective words) took 0.0s, 380208 effective words/s\n",
            "2018-08-11 18:56:49,461 : INFO : worker thread finished; awaiting finish of 2 more threads\n",
            "2018-08-11 18:56:49,477 : INFO : worker thread finished; awaiting finish of 1 more threads\n",
            "2018-08-11 18:56:49,483 : INFO : worker thread finished; awaiting finish of 0 more threads\n",
            "2018-08-11 18:56:49,484 : INFO : EPOCH - 40 : training on 17642 raw words (10704 effective words) took 0.0s, 419704 effective words/s\n",
            "2018-08-11 18:56:49,493 : INFO : worker thread finished; awaiting finish of 2 more threads\n",
            "2018-08-11 18:56:49,513 : INFO : worker thread finished; awaiting finish of 1 more threads\n",
            "2018-08-11 18:56:49,518 : INFO : worker thread finished; awaiting finish of 0 more threads\n",
            "2018-08-11 18:56:49,519 : INFO : EPOCH - 41 : training on 17642 raw words (10689 effective words) took 0.0s, 377742 effective words/s\n",
            "2018-08-11 18:56:49,531 : INFO : worker thread finished; awaiting finish of 2 more threads\n",
            "2018-08-11 18:56:49,547 : INFO : worker thread finished; awaiting finish of 1 more threads\n",
            "2018-08-11 18:56:49,549 : INFO : worker thread finished; awaiting finish of 0 more threads\n",
            "2018-08-11 18:56:49,550 : INFO : EPOCH - 42 : training on 17642 raw words (10671 effective words) took 0.0s, 485839 effective words/s\n",
            "2018-08-11 18:56:49,562 : INFO : worker thread finished; awaiting finish of 2 more threads\n",
            "2018-08-11 18:56:49,577 : INFO : worker thread finished; awaiting finish of 1 more threads\n",
            "2018-08-11 18:56:49,585 : INFO : worker thread finished; awaiting finish of 0 more threads\n",
            "2018-08-11 18:56:49,589 : INFO : EPOCH - 43 : training on 17642 raw words (10690 effective words) took 0.0s, 342243 effective words/s\n",
            "2018-08-11 18:56:49,598 : INFO : worker thread finished; awaiting finish of 2 more threads\n",
            "2018-08-11 18:56:49,617 : INFO : worker thread finished; awaiting finish of 1 more threads\n",
            "2018-08-11 18:56:49,621 : INFO : worker thread finished; awaiting finish of 0 more threads\n",
            "2018-08-11 18:56:49,622 : INFO : EPOCH - 44 : training on 17642 raw words (10656 effective words) took 0.0s, 404413 effective words/s\n",
            "2018-08-11 18:56:49,635 : INFO : worker thread finished; awaiting finish of 2 more threads\n",
            "2018-08-11 18:56:49,651 : INFO : worker thread finished; awaiting finish of 1 more threads\n",
            "2018-08-11 18:56:49,655 : INFO : worker thread finished; awaiting finish of 0 more threads\n",
            "2018-08-11 18:56:49,656 : INFO : EPOCH - 45 : training on 17642 raw words (10670 effective words) took 0.0s, 443509 effective words/s\n",
            "2018-08-11 18:56:49,668 : INFO : worker thread finished; awaiting finish of 2 more threads\n",
            "2018-08-11 18:56:49,685 : INFO : worker thread finished; awaiting finish of 1 more threads\n",
            "2018-08-11 18:56:49,687 : INFO : worker thread finished; awaiting finish of 0 more threads\n",
            "2018-08-11 18:56:49,689 : INFO : EPOCH - 46 : training on 17642 raw words (10630 effective words) took 0.0s, 442815 effective words/s\n",
            "2018-08-11 18:56:49,700 : INFO : worker thread finished; awaiting finish of 2 more threads\n",
            "2018-08-11 18:56:49,718 : INFO : worker thread finished; awaiting finish of 1 more threads\n",
            "2018-08-11 18:56:49,720 : INFO : worker thread finished; awaiting finish of 0 more threads\n",
            "2018-08-11 18:56:49,721 : INFO : EPOCH - 47 : training on 17642 raw words (10645 effective words) took 0.0s, 459555 effective words/s\n",
            "2018-08-11 18:56:49,735 : INFO : worker thread finished; awaiting finish of 2 more threads\n",
            "2018-08-11 18:56:49,751 : INFO : worker thread finished; awaiting finish of 1 more threads\n",
            "2018-08-11 18:56:49,760 : INFO : worker thread finished; awaiting finish of 0 more threads\n",
            "2018-08-11 18:56:49,761 : INFO : EPOCH - 48 : training on 17642 raw words (10638 effective words) took 0.0s, 372113 effective words/s\n",
            "2018-08-11 18:56:49,774 : INFO : worker thread finished; awaiting finish of 2 more threads\n",
            "2018-08-11 18:56:49,792 : INFO : worker thread finished; awaiting finish of 1 more threads\n",
            "2018-08-11 18:56:49,798 : INFO : worker thread finished; awaiting finish of 0 more threads\n",
            "2018-08-11 18:56:49,799 : INFO : EPOCH - 49 : training on 17642 raw words (10671 effective words) took 0.0s, 376533 effective words/s\n",
            "2018-08-11 18:56:49,811 : INFO : worker thread finished; awaiting finish of 2 more threads\n",
            "2018-08-11 18:56:49,825 : INFO : worker thread finished; awaiting finish of 1 more threads\n",
            "2018-08-11 18:56:49,833 : INFO : worker thread finished; awaiting finish of 0 more threads\n",
            "2018-08-11 18:56:49,834 : INFO : EPOCH - 50 : training on 17642 raw words (10654 effective words) took 0.0s, 411199 effective words/s\n",
            "2018-08-11 18:56:49,845 : INFO : worker thread finished; awaiting finish of 2 more threads\n",
            "2018-08-11 18:56:49,861 : INFO : worker thread finished; awaiting finish of 1 more threads\n",
            "2018-08-11 18:56:49,863 : INFO : worker thread finished; awaiting finish of 0 more threads\n",
            "2018-08-11 18:56:49,866 : INFO : EPOCH - 51 : training on 17642 raw words (10724 effective words) took 0.0s, 444370 effective words/s\n",
            "2018-08-11 18:56:49,877 : INFO : worker thread finished; awaiting finish of 2 more threads\n",
            "2018-08-11 18:56:49,897 : INFO : worker thread finished; awaiting finish of 1 more threads\n",
            "2018-08-11 18:56:49,899 : INFO : worker thread finished; awaiting finish of 0 more threads\n",
            "2018-08-11 18:56:49,900 : INFO : EPOCH - 52 : training on 17642 raw words (10671 effective words) took 0.0s, 431220 effective words/s\n",
            "2018-08-11 18:56:49,915 : INFO : worker thread finished; awaiting finish of 2 more threads\n",
            "2018-08-11 18:56:49,933 : INFO : worker thread finished; awaiting finish of 1 more threads\n",
            "2018-08-11 18:56:49,937 : INFO : worker thread finished; awaiting finish of 0 more threads\n",
            "2018-08-11 18:56:49,939 : INFO : EPOCH - 53 : training on 17642 raw words (10644 effective words) took 0.0s, 398563 effective words/s\n",
            "2018-08-11 18:56:49,949 : INFO : worker thread finished; awaiting finish of 2 more threads\n",
            "2018-08-11 18:56:49,965 : INFO : worker thread finished; awaiting finish of 1 more threads\n",
            "2018-08-11 18:56:49,974 : INFO : worker thread finished; awaiting finish of 0 more threads\n",
            "2018-08-11 18:56:49,975 : INFO : EPOCH - 54 : training on 17642 raw words (10648 effective words) took 0.0s, 361248 effective words/s\n",
            "2018-08-11 18:56:49,985 : INFO : worker thread finished; awaiting finish of 2 more threads\n",
            "2018-08-11 18:56:50,003 : INFO : worker thread finished; awaiting finish of 1 more threads\n",
            "2018-08-11 18:56:50,010 : INFO : worker thread finished; awaiting finish of 0 more threads\n",
            "2018-08-11 18:56:50,011 : INFO : EPOCH - 55 : training on 17642 raw words (10680 effective words) took 0.0s, 387785 effective words/s\n",
            "2018-08-11 18:56:50,021 : INFO : worker thread finished; awaiting finish of 2 more threads\n",
            "2018-08-11 18:56:50,038 : INFO : worker thread finished; awaiting finish of 1 more threads\n",
            "2018-08-11 18:56:50,041 : INFO : worker thread finished; awaiting finish of 0 more threads\n",
            "2018-08-11 18:56:50,042 : INFO : EPOCH - 56 : training on 17642 raw words (10657 effective words) took 0.0s, 450154 effective words/s\n",
            "2018-08-11 18:56:50,054 : INFO : worker thread finished; awaiting finish of 2 more threads\n",
            "2018-08-11 18:56:50,071 : INFO : worker thread finished; awaiting finish of 1 more threads\n",
            "2018-08-11 18:56:50,074 : INFO : worker thread finished; awaiting finish of 0 more threads\n",
            "2018-08-11 18:56:50,075 : INFO : EPOCH - 57 : training on 17642 raw words (10597 effective words) took 0.0s, 451969 effective words/s\n",
            "2018-08-11 18:56:50,087 : INFO : worker thread finished; awaiting finish of 2 more threads\n",
            "2018-08-11 18:56:50,103 : INFO : worker thread finished; awaiting finish of 1 more threads\n",
            "2018-08-11 18:56:50,110 : INFO : worker thread finished; awaiting finish of 0 more threads\n",
            "2018-08-11 18:56:50,111 : INFO : EPOCH - 58 : training on 17642 raw words (10670 effective words) took 0.0s, 446469 effective words/s\n",
            "2018-08-11 18:56:50,124 : INFO : worker thread finished; awaiting finish of 2 more threads\n",
            "2018-08-11 18:56:50,142 : INFO : worker thread finished; awaiting finish of 1 more threads\n",
            "2018-08-11 18:56:50,144 : INFO : worker thread finished; awaiting finish of 0 more threads\n",
            "2018-08-11 18:56:50,147 : INFO : EPOCH - 59 : training on 17642 raw words (10663 effective words) took 0.0s, 406691 effective words/s\n",
            "2018-08-11 18:56:50,158 : INFO : worker thread finished; awaiting finish of 2 more threads\n",
            "2018-08-11 18:56:50,177 : INFO : worker thread finished; awaiting finish of 1 more threads\n",
            "2018-08-11 18:56:50,182 : INFO : worker thread finished; awaiting finish of 0 more threads\n",
            "2018-08-11 18:56:50,183 : INFO : EPOCH - 60 : training on 17642 raw words (10645 effective words) took 0.0s, 382967 effective words/s\n",
            "2018-08-11 18:56:50,194 : INFO : worker thread finished; awaiting finish of 2 more threads\n",
            "2018-08-11 18:56:50,210 : INFO : worker thread finished; awaiting finish of 1 more threads\n",
            "2018-08-11 18:56:50,212 : INFO : worker thread finished; awaiting finish of 0 more threads\n",
            "2018-08-11 18:56:50,214 : INFO : EPOCH - 61 : training on 17642 raw words (10626 effective words) took 0.0s, 471905 effective words/s\n",
            "2018-08-11 18:56:50,232 : INFO : worker thread finished; awaiting finish of 2 more threads\n",
            "2018-08-11 18:56:50,245 : INFO : worker thread finished; awaiting finish of 1 more threads\n",
            "2018-08-11 18:56:50,251 : INFO : worker thread finished; awaiting finish of 0 more threads\n",
            "2018-08-11 18:56:50,252 : INFO : EPOCH - 62 : training on 17642 raw words (10670 effective words) took 0.0s, 450144 effective words/s\n",
            "2018-08-11 18:56:50,264 : INFO : worker thread finished; awaiting finish of 2 more threads\n",
            "2018-08-11 18:56:50,284 : INFO : worker thread finished; awaiting finish of 1 more threads\n",
            "2018-08-11 18:56:50,290 : INFO : worker thread finished; awaiting finish of 0 more threads\n",
            "2018-08-11 18:56:50,293 : INFO : EPOCH - 63 : training on 17642 raw words (10642 effective words) took 0.0s, 317030 effective words/s\n",
            "2018-08-11 18:56:50,307 : INFO : worker thread finished; awaiting finish of 2 more threads\n",
            "2018-08-11 18:56:50,326 : INFO : worker thread finished; awaiting finish of 1 more threads\n",
            "2018-08-11 18:56:50,328 : INFO : worker thread finished; awaiting finish of 0 more threads\n",
            "2018-08-11 18:56:50,332 : INFO : EPOCH - 64 : training on 17642 raw words (10670 effective words) took 0.0s, 396811 effective words/s\n",
            "2018-08-11 18:56:50,348 : INFO : worker thread finished; awaiting finish of 2 more threads\n",
            "2018-08-11 18:56:50,361 : INFO : worker thread finished; awaiting finish of 1 more threads\n",
            "2018-08-11 18:56:50,363 : INFO : worker thread finished; awaiting finish of 0 more threads\n",
            "2018-08-11 18:56:50,364 : INFO : EPOCH - 65 : training on 17642 raw words (10699 effective words) took 0.0s, 474851 effective words/s\n",
            "2018-08-11 18:56:50,375 : INFO : worker thread finished; awaiting finish of 2 more threads\n",
            "2018-08-11 18:56:50,391 : INFO : worker thread finished; awaiting finish of 1 more threads\n",
            "2018-08-11 18:56:50,395 : INFO : worker thread finished; awaiting finish of 0 more threads\n",
            "2018-08-11 18:56:50,397 : INFO : EPOCH - 66 : training on 17642 raw words (10636 effective words) took 0.0s, 432186 effective words/s\n",
            "2018-08-11 18:56:50,407 : INFO : worker thread finished; awaiting finish of 2 more threads\n",
            "2018-08-11 18:56:50,429 : INFO : worker thread finished; awaiting finish of 1 more threads\n",
            "2018-08-11 18:56:50,432 : INFO : worker thread finished; awaiting finish of 0 more threads\n",
            "2018-08-11 18:56:50,433 : INFO : EPOCH - 67 : training on 17642 raw words (10681 effective words) took 0.0s, 381194 effective words/s\n",
            "2018-08-11 18:56:50,444 : INFO : worker thread finished; awaiting finish of 2 more threads\n",
            "2018-08-11 18:56:50,460 : INFO : worker thread finished; awaiting finish of 1 more threads\n",
            "2018-08-11 18:56:50,465 : INFO : worker thread finished; awaiting finish of 0 more threads\n",
            "2018-08-11 18:56:50,466 : INFO : EPOCH - 68 : training on 17642 raw words (10643 effective words) took 0.0s, 440735 effective words/s\n",
            "2018-08-11 18:56:50,479 : INFO : worker thread finished; awaiting finish of 2 more threads\n",
            "2018-08-11 18:56:50,495 : INFO : worker thread finished; awaiting finish of 1 more threads\n",
            "2018-08-11 18:56:50,502 : INFO : worker thread finished; awaiting finish of 0 more threads\n",
            "2018-08-11 18:56:50,503 : INFO : EPOCH - 69 : training on 17642 raw words (10635 effective words) took 0.0s, 401846 effective words/s\n",
            "2018-08-11 18:56:50,514 : INFO : worker thread finished; awaiting finish of 2 more threads\n",
            "2018-08-11 18:56:50,528 : INFO : worker thread finished; awaiting finish of 1 more threads\n",
            "2018-08-11 18:56:50,535 : INFO : worker thread finished; awaiting finish of 0 more threads\n",
            "2018-08-11 18:56:50,536 : INFO : EPOCH - 70 : training on 17642 raw words (10699 effective words) took 0.0s, 443030 effective words/s\n",
            "2018-08-11 18:56:50,553 : INFO : worker thread finished; awaiting finish of 2 more threads\n",
            "2018-08-11 18:56:50,565 : INFO : worker thread finished; awaiting finish of 1 more threads\n",
            "2018-08-11 18:56:50,572 : INFO : worker thread finished; awaiting finish of 0 more threads\n",
            "2018-08-11 18:56:50,573 : INFO : EPOCH - 71 : training on 17642 raw words (10704 effective words) took 0.0s, 398374 effective words/s\n",
            "2018-08-11 18:56:50,586 : INFO : worker thread finished; awaiting finish of 2 more threads\n",
            "2018-08-11 18:56:50,602 : INFO : worker thread finished; awaiting finish of 1 more threads\n",
            "2018-08-11 18:56:50,605 : INFO : worker thread finished; awaiting finish of 0 more threads\n",
            "2018-08-11 18:56:50,606 : INFO : EPOCH - 72 : training on 17642 raw words (10675 effective words) took 0.0s, 454871 effective words/s\n",
            "2018-08-11 18:56:50,618 : INFO : worker thread finished; awaiting finish of 2 more threads\n",
            "2018-08-11 18:56:50,635 : INFO : worker thread finished; awaiting finish of 1 more threads\n",
            "2018-08-11 18:56:50,641 : INFO : worker thread finished; awaiting finish of 0 more threads\n",
            "2018-08-11 18:56:50,642 : INFO : EPOCH - 73 : training on 17642 raw words (10660 effective words) took 0.0s, 400565 effective words/s\n",
            "2018-08-11 18:56:50,656 : INFO : worker thread finished; awaiting finish of 2 more threads\n",
            "2018-08-11 18:56:50,673 : INFO : worker thread finished; awaiting finish of 1 more threads\n",
            "2018-08-11 18:56:50,680 : INFO : worker thread finished; awaiting finish of 0 more threads\n",
            "2018-08-11 18:56:50,681 : INFO : EPOCH - 74 : training on 17642 raw words (10666 effective words) took 0.0s, 384600 effective words/s\n",
            "2018-08-11 18:56:50,691 : INFO : worker thread finished; awaiting finish of 2 more threads\n",
            "2018-08-11 18:56:50,708 : INFO : worker thread finished; awaiting finish of 1 more threads\n",
            "2018-08-11 18:56:50,710 : INFO : worker thread finished; awaiting finish of 0 more threads\n",
            "2018-08-11 18:56:50,712 : INFO : EPOCH - 75 : training on 17642 raw words (10705 effective words) took 0.0s, 461548 effective words/s\n",
            "2018-08-11 18:56:50,729 : INFO : worker thread finished; awaiting finish of 2 more threads\n",
            "2018-08-11 18:56:50,744 : INFO : worker thread finished; awaiting finish of 1 more threads\n",
            "2018-08-11 18:56:50,745 : INFO : worker thread finished; awaiting finish of 0 more threads\n",
            "2018-08-11 18:56:50,746 : INFO : EPOCH - 76 : training on 17642 raw words (10682 effective words) took 0.0s, 507071 effective words/s\n",
            "2018-08-11 18:56:50,760 : INFO : worker thread finished; awaiting finish of 2 more threads\n",
            "2018-08-11 18:56:50,778 : INFO : worker thread finished; awaiting finish of 1 more threads\n",
            "2018-08-11 18:56:50,783 : INFO : worker thread finished; awaiting finish of 0 more threads\n",
            "2018-08-11 18:56:50,784 : INFO : EPOCH - 77 : training on 17642 raw words (10662 effective words) took 0.0s, 395308 effective words/s\n",
            "2018-08-11 18:56:50,796 : INFO : worker thread finished; awaiting finish of 2 more threads\n",
            "2018-08-11 18:56:50,816 : INFO : worker thread finished; awaiting finish of 1 more threads\n",
            "2018-08-11 18:56:50,818 : INFO : worker thread finished; awaiting finish of 0 more threads\n",
            "2018-08-11 18:56:50,821 : INFO : EPOCH - 78 : training on 17642 raw words (10655 effective words) took 0.0s, 382570 effective words/s\n",
            "2018-08-11 18:56:50,842 : INFO : worker thread finished; awaiting finish of 2 more threads\n",
            "2018-08-11 18:56:50,850 : INFO : worker thread finished; awaiting finish of 1 more threads\n",
            "2018-08-11 18:56:50,861 : INFO : worker thread finished; awaiting finish of 0 more threads\n",
            "2018-08-11 18:56:50,862 : INFO : EPOCH - 79 : training on 17642 raw words (10693 effective words) took 0.0s, 338416 effective words/s\n",
            "2018-08-11 18:56:50,879 : INFO : worker thread finished; awaiting finish of 2 more threads\n",
            "2018-08-11 18:56:50,893 : INFO : worker thread finished; awaiting finish of 1 more threads\n",
            "2018-08-11 18:56:50,899 : INFO : worker thread finished; awaiting finish of 0 more threads\n",
            "2018-08-11 18:56:50,900 : INFO : EPOCH - 80 : training on 17642 raw words (10658 effective words) took 0.0s, 389572 effective words/s\n",
            "2018-08-11 18:56:50,911 : INFO : worker thread finished; awaiting finish of 2 more threads\n",
            "2018-08-11 18:56:50,928 : INFO : worker thread finished; awaiting finish of 1 more threads\n",
            "2018-08-11 18:56:50,934 : INFO : worker thread finished; awaiting finish of 0 more threads\n",
            "2018-08-11 18:56:50,935 : INFO : EPOCH - 81 : training on 17642 raw words (10618 effective words) took 0.0s, 382392 effective words/s\n",
            "2018-08-11 18:56:50,945 : INFO : worker thread finished; awaiting finish of 2 more threads\n",
            "2018-08-11 18:56:50,961 : INFO : worker thread finished; awaiting finish of 1 more threads\n",
            "2018-08-11 18:56:50,965 : INFO : worker thread finished; awaiting finish of 0 more threads\n",
            "2018-08-11 18:56:50,968 : INFO : EPOCH - 82 : training on 17642 raw words (10662 effective words) took 0.0s, 415073 effective words/s\n",
            "2018-08-11 18:56:50,981 : INFO : worker thread finished; awaiting finish of 2 more threads\n",
            "2018-08-11 18:56:50,999 : INFO : worker thread finished; awaiting finish of 1 more threads\n",
            "2018-08-11 18:56:51,000 : INFO : worker thread finished; awaiting finish of 0 more threads\n",
            "2018-08-11 18:56:51,003 : INFO : EPOCH - 83 : training on 17642 raw words (10678 effective words) took 0.0s, 438214 effective words/s\n",
            "2018-08-11 18:56:51,014 : INFO : worker thread finished; awaiting finish of 2 more threads\n",
            "2018-08-11 18:56:51,032 : INFO : worker thread finished; awaiting finish of 1 more threads\n",
            "2018-08-11 18:56:51,034 : INFO : worker thread finished; awaiting finish of 0 more threads\n",
            "2018-08-11 18:56:51,037 : INFO : EPOCH - 84 : training on 17642 raw words (10673 effective words) took 0.0s, 418104 effective words/s\n",
            "2018-08-11 18:56:51,047 : INFO : worker thread finished; awaiting finish of 2 more threads\n",
            "2018-08-11 18:56:51,066 : INFO : worker thread finished; awaiting finish of 1 more threads\n",
            "2018-08-11 18:56:51,069 : INFO : worker thread finished; awaiting finish of 0 more threads\n",
            "2018-08-11 18:56:51,070 : INFO : EPOCH - 85 : training on 17642 raw words (10648 effective words) took 0.0s, 423286 effective words/s\n",
            "2018-08-11 18:56:51,083 : INFO : worker thread finished; awaiting finish of 2 more threads\n",
            "2018-08-11 18:56:51,099 : INFO : worker thread finished; awaiting finish of 1 more threads\n",
            "2018-08-11 18:56:51,101 : INFO : worker thread finished; awaiting finish of 0 more threads\n",
            "2018-08-11 18:56:51,102 : INFO : EPOCH - 86 : training on 17642 raw words (10667 effective words) took 0.0s, 484828 effective words/s\n",
            "2018-08-11 18:56:51,118 : INFO : worker thread finished; awaiting finish of 2 more threads\n",
            "2018-08-11 18:56:51,136 : INFO : worker thread finished; awaiting finish of 1 more threads\n",
            "2018-08-11 18:56:51,141 : INFO : worker thread finished; awaiting finish of 0 more threads\n",
            "2018-08-11 18:56:51,142 : INFO : EPOCH - 87 : training on 17642 raw words (10668 effective words) took 0.0s, 396966 effective words/s\n",
            "2018-08-11 18:56:51,152 : INFO : worker thread finished; awaiting finish of 2 more threads\n",
            "2018-08-11 18:56:51,170 : INFO : worker thread finished; awaiting finish of 1 more threads\n",
            "2018-08-11 18:56:51,175 : INFO : worker thread finished; awaiting finish of 0 more threads\n",
            "2018-08-11 18:56:51,176 : INFO : EPOCH - 88 : training on 17642 raw words (10654 effective words) took 0.0s, 403952 effective words/s\n",
            "2018-08-11 18:56:51,188 : INFO : worker thread finished; awaiting finish of 2 more threads\n",
            "2018-08-11 18:56:51,204 : INFO : worker thread finished; awaiting finish of 1 more threads\n",
            "2018-08-11 18:56:51,205 : INFO : worker thread finished; awaiting finish of 0 more threads\n",
            "2018-08-11 18:56:51,206 : INFO : EPOCH - 89 : training on 17642 raw words (10647 effective words) took 0.0s, 500031 effective words/s\n",
            "2018-08-11 18:56:51,225 : INFO : worker thread finished; awaiting finish of 2 more threads\n",
            "2018-08-11 18:56:51,244 : INFO : worker thread finished; awaiting finish of 1 more threads\n",
            "2018-08-11 18:56:51,248 : INFO : worker thread finished; awaiting finish of 0 more threads\n",
            "2018-08-11 18:56:51,250 : INFO : EPOCH - 90 : training on 17642 raw words (10691 effective words) took 0.0s, 334703 effective words/s\n",
            "2018-08-11 18:56:51,262 : INFO : worker thread finished; awaiting finish of 2 more threads\n",
            "2018-08-11 18:56:51,283 : INFO : worker thread finished; awaiting finish of 1 more threads\n",
            "2018-08-11 18:56:51,284 : INFO : worker thread finished; awaiting finish of 0 more threads\n",
            "2018-08-11 18:56:51,285 : INFO : EPOCH - 91 : training on 17642 raw words (10693 effective words) took 0.0s, 421238 effective words/s\n",
            "2018-08-11 18:56:51,304 : INFO : worker thread finished; awaiting finish of 2 more threads\n",
            "2018-08-11 18:56:51,312 : INFO : worker thread finished; awaiting finish of 1 more threads\n",
            "2018-08-11 18:56:51,323 : INFO : worker thread finished; awaiting finish of 0 more threads\n",
            "2018-08-11 18:56:51,324 : INFO : EPOCH - 92 : training on 17642 raw words (10657 effective words) took 0.0s, 351115 effective words/s\n",
            "2018-08-11 18:56:51,334 : INFO : worker thread finished; awaiting finish of 2 more threads\n",
            "2018-08-11 18:56:51,349 : INFO : worker thread finished; awaiting finish of 1 more threads\n",
            "2018-08-11 18:56:51,355 : INFO : worker thread finished; awaiting finish of 0 more threads\n",
            "2018-08-11 18:56:51,357 : INFO : EPOCH - 93 : training on 17642 raw words (10657 effective words) took 0.0s, 415309 effective words/s\n",
            "2018-08-11 18:56:51,367 : INFO : worker thread finished; awaiting finish of 2 more threads\n",
            "2018-08-11 18:56:51,382 : INFO : worker thread finished; awaiting finish of 1 more threads\n",
            "2018-08-11 18:56:51,391 : INFO : worker thread finished; awaiting finish of 0 more threads\n",
            "2018-08-11 18:56:51,392 : INFO : EPOCH - 94 : training on 17642 raw words (10672 effective words) took 0.0s, 368895 effective words/s\n",
            "2018-08-11 18:56:51,401 : INFO : worker thread finished; awaiting finish of 2 more threads\n",
            "2018-08-11 18:56:51,419 : INFO : worker thread finished; awaiting finish of 1 more threads\n",
            "2018-08-11 18:56:51,420 : INFO : worker thread finished; awaiting finish of 0 more threads\n",
            "2018-08-11 18:56:51,421 : INFO : EPOCH - 95 : training on 17642 raw words (10676 effective words) took 0.0s, 473928 effective words/s\n",
            "2018-08-11 18:56:51,432 : INFO : worker thread finished; awaiting finish of 2 more threads\n",
            "2018-08-11 18:56:51,449 : INFO : worker thread finished; awaiting finish of 1 more threads\n",
            "2018-08-11 18:56:51,450 : INFO : worker thread finished; awaiting finish of 0 more threads\n",
            "2018-08-11 18:56:51,451 : INFO : EPOCH - 96 : training on 17642 raw words (10626 effective words) took 0.0s, 493090 effective words/s\n",
            "2018-08-11 18:56:51,464 : INFO : worker thread finished; awaiting finish of 2 more threads\n",
            "2018-08-11 18:56:51,481 : INFO : worker thread finished; awaiting finish of 1 more threads\n",
            "2018-08-11 18:56:51,483 : INFO : worker thread finished; awaiting finish of 0 more threads\n",
            "2018-08-11 18:56:51,485 : INFO : EPOCH - 97 : training on 17642 raw words (10711 effective words) took 0.0s, 406210 effective words/s\n",
            "2018-08-11 18:56:51,501 : INFO : worker thread finished; awaiting finish of 2 more threads\n",
            "2018-08-11 18:56:51,515 : INFO : worker thread finished; awaiting finish of 1 more threads\n",
            "2018-08-11 18:56:51,516 : INFO : worker thread finished; awaiting finish of 0 more threads\n",
            "2018-08-11 18:56:51,517 : INFO : EPOCH - 98 : training on 17642 raw words (10692 effective words) took 0.0s, 461519 effective words/s\n",
            "2018-08-11 18:56:51,527 : INFO : worker thread finished; awaiting finish of 2 more threads\n",
            "2018-08-11 18:56:51,541 : INFO : worker thread finished; awaiting finish of 1 more threads\n",
            "2018-08-11 18:56:51,548 : INFO : worker thread finished; awaiting finish of 0 more threads\n",
            "2018-08-11 18:56:51,554 : INFO : EPOCH - 99 : training on 17642 raw words (10670 effective words) took 0.0s, 367826 effective words/s\n",
            "2018-08-11 18:56:51,572 : INFO : worker thread finished; awaiting finish of 2 more threads\n",
            "2018-08-11 18:56:51,588 : INFO : worker thread finished; awaiting finish of 1 more threads\n",
            "2018-08-11 18:56:51,593 : INFO : worker thread finished; awaiting finish of 0 more threads\n",
            "2018-08-11 18:56:51,594 : INFO : EPOCH - 100 : training on 17642 raw words (10628 effective words) took 0.0s, 433077 effective words/s\n",
            "2018-08-11 18:56:51,596 : INFO : training on a 1764200 raw words (1066647 effective words) took 3.5s, 307530 effective words/s\n"
          ],
          "name": "stderr"
        },
        {
          "output_type": "execute_result",
          "data": {
            "text/plain": [
              "(1066647, 1764200)"
            ]
          },
          "metadata": {
            "tags": []
          },
          "execution_count": 13
        }
      ]
    },
    {
      "metadata": {
        "id": "ll9itjpW8wzr",
        "colab_type": "text"
      },
      "cell_type": "markdown",
      "source": [
        "## Similarity"
      ]
    },
    {
      "metadata": {
        "id": "Mjn9OJG1o0BN",
        "colab_type": "code",
        "colab": {
          "base_uri": "https://localhost:8080/",
          "height": 258
        },
        "outputId": "01413dce-9374-4557-9b21-f8bea97a75f8"
      },
      "cell_type": "code",
      "source": [
        "model.wv.similar_by_word('computer')"
      ],
      "execution_count": 14,
      "outputs": [
        {
          "output_type": "stream",
          "text": [
            "2018-08-11 18:56:52,065 : INFO : precomputing L2-norms of word weight vectors\n",
            "/usr/local/lib/python3.6/dist-packages/gensim/matutils.py:737: FutureWarning: Conversion of the second argument of issubdtype from `int` to `np.signedinteger` is deprecated. In future, it will be treated as `np.int64 == np.dtype(int).type`.\n",
            "  if np.issubdtype(vec.dtype, np.int):\n"
          ],
          "name": "stderr"
        },
        {
          "output_type": "execute_result",
          "data": {
            "text/plain": [
              "[('science', 0.8077867031097412),\n",
              " ('individual', 0.773415207862854),\n",
              " ('fundamentals', 0.7571852207183838),\n",
              " ('cohort', 0.7358077764511108),\n",
              " ('provides', 0.6814483404159546),\n",
              " ('solving', 0.6733353137969971),\n",
              " ('certificate', 0.6553417444229126),\n",
              " ('fundamental', 0.6539023518562317),\n",
              " ('problem', 0.6455484628677368),\n",
              " ('CS', 0.6409257650375366)]"
            ]
          },
          "metadata": {
            "tags": []
          },
          "execution_count": 14
        }
      ]
    },
    {
      "metadata": {
        "id": "foQeaMXEoO4o",
        "colab_type": "code",
        "colab": {
          "base_uri": "https://localhost:8080/",
          "height": 241
        },
        "outputId": "92fba7d4-7388-4953-c109-def8993c775a"
      },
      "cell_type": "code",
      "source": [
        "model.wv.similar_by_word('node')"
      ],
      "execution_count": 15,
      "outputs": [
        {
          "output_type": "stream",
          "text": [
            "/usr/local/lib/python3.6/dist-packages/gensim/matutils.py:737: FutureWarning: Conversion of the second argument of issubdtype from `int` to `np.signedinteger` is deprecated. In future, it will be treated as `np.int64 == np.dtype(int).type`.\n",
            "  if np.issubdtype(vec.dtype, np.int):\n"
          ],
          "name": "stderr"
        },
        {
          "output_type": "execute_result",
          "data": {
            "text/plain": [
              "[('express', 0.9927661418914795),\n",
              " ('redux', 0.979595959186554),\n",
              " ('native', 0.9544839859008789),\n",
              " ('mocha', 0.9475486278533936),\n",
              " ('mongoDB', 0.8906070590019226),\n",
              " ('chai', 0.8711135387420654),\n",
              " ('react', 0.8119149208068848),\n",
              " ('authentication', 0.7989683151245117),\n",
              " ('python', 0.743097722530365),\n",
              " ('course', 0.7278189659118652)]"
            ]
          },
          "metadata": {
            "tags": []
          },
          "execution_count": 15
        }
      ]
    },
    {
      "metadata": {
        "id": "PNQ_RbTx8ay3",
        "colab_type": "text"
      },
      "cell_type": "markdown",
      "source": [
        "## Visualization"
      ]
    },
    {
      "metadata": {
        "id": "jUyWszWxvLBi",
        "colab_type": "code",
        "colab": {}
      },
      "cell_type": "code",
      "source": [
        "import sklearn.manifold\n",
        "\n",
        "tsne = sklearn.manifold.TSNE(n_components=2, random_state=0)\n",
        "word_vectors_2D = tsne.fit_transform(model.wv.vectors)"
      ],
      "execution_count": 0,
      "outputs": []
    },
    {
      "metadata": {
        "id": "jXV_POAAXkve",
        "colab_type": "code",
        "colab": {}
      },
      "cell_type": "code",
      "source": [
        "words_and_coords = []\n",
        "for word in model.wv.vocab:\n",
        "  word_info = model.wv.vocab[word]\n",
        "  coords = word_vectors_2D[word_info.index]\n",
        "  words_and_coords.append((word, coords[0], coords[1]))"
      ],
      "execution_count": 0,
      "outputs": []
    },
    {
      "metadata": {
        "id": "cU5pqN8N63sB",
        "colab_type": "code",
        "colab": {
          "base_uri": "https://localhost:8080/",
          "height": 730
        },
        "outputId": "b5618157-e7ac-4ea3-f5da-fcac75fb030b"
      },
      "cell_type": "code",
      "source": [
        "import pandas as pd\n",
        "import seaborn as sns\n",
        "sns.set_context(\"poster\")\n",
        "\n",
        "points = pd.DataFrame(words_and_coords, columns=[\"word\", \"x\", \"y\"])\n",
        "points.plot.scatter(\"x\", \"y\", s=20, figsize=(20, 12));"
      ],
      "execution_count": 27,
      "outputs": [
        {
          "output_type": "display_data",
          "data": {
            "image/png": "[encoded data removed]",
            "text/plain": [
              "<matplotlib.figure.Figure at 0x7f86d1b38da0>"
            ]
          },
          "metadata": {
            "tags": []
          }
        }
      ]
    },
    {
      "metadata": {
        "id": "hwMNtc2lgtjO",
        "colab_type": "code",
        "colab": {}
      },
      "cell_type": "code",
      "source": [
        "def zoom_in(x_bounds, y_bounds):\n",
        "    filtered_points = points[(points.x >= x_bounds[0]) & (points.x <= x_bounds[1]) & (points.y >= y_bounds[0]) & (points.y <= y_bounds[1])]\n",
        "    \n",
        "    ax = filtered_points.plot.scatter(\"x\", \"y\", s=40, figsize=(10, 8))\n",
        "    for i, point in filtered_points.iterrows():\n",
        "        ax.text(point.x+0.005, point.y+0.005, point.word, fontsize=14)"
      ],
      "execution_count": 0,
      "outputs": []
    },
    {
      "metadata": {
        "id": "Xjx9C3py7AI_",
        "colab_type": "code",
        "colab": {
          "base_uri": "https://localhost:8080/",
          "height": 513
        },
        "outputId": "563bbc55-dacd-4e10-e284-ff11558d42b1"
      },
      "cell_type": "code",
      "source": [
        "zoom_in(x_bounds=(10.0, 20.0), y_bounds=(-40.0, -30.0))"
      ],
      "execution_count": 42,
      "outputs": [
        {
          "output_type": "display_data",
          "data": {
            "image/png": "[encoded data removed]",
            "text/plain": [
              "<matplotlib.figure.Figure at 0x7f869edae940>"
            ]
          },
          "metadata": {
            "tags": []
          }
        }
      ]
    }
  ]
}