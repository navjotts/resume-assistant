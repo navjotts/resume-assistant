{
  "nbformat": 4,
  "nbformat_minor": 0,
  "metadata": {
    "colab": {
      "name": "ResumeEmbeddings.ipynb",
      "version": "0.3.2",
      "views": {},
      "default_view": {},
      "provenance": [],
      "collapsed_sections": []
    },
    "kernelspec": {
      "name": "python3",
      "display_name": "Python 3"
    }
  },
  "cells": [
    {
      "metadata": {
        "id": "f4TkLqjSpG9W",
        "colab_type": "text"
      },
      "cell_type": "markdown",
      "source": [
        "## Google Colab"
      ]
    },
    {
      "metadata": {
        "id": "dU8f22Zclmrz",
        "colab_type": "code",
        "colab": {
          "autoexec": {
            "startup": false,
            "wait_interval": 0
          }
        }
      },
      "cell_type": "code",
      "source": [
        "!pip install -U -q PyDrive"
      ],
      "execution_count": 0,
      "outputs": []
    },
    {
      "metadata": {
        "id": "BFEPpq6Beka6",
        "colab_type": "code",
        "colab": {
          "autoexec": {
            "startup": false,
            "wait_interval": 0
          }
        }
      },
      "cell_type": "code",
      "source": [
        "!pip install --upgrade gensim"
      ],
      "execution_count": 0,
      "outputs": []
    },
    {
      "metadata": {
        "id": "ZkHcyUkYelPb",
        "colab_type": "code",
        "colab": {
          "autoexec": {
            "startup": false,
            "wait_interval": 0
          }
        }
      },
      "cell_type": "code",
      "source": [
        "!pip install -U spacy"
      ],
      "execution_count": 0,
      "outputs": []
    },
    {
      "metadata": {
        "id": "AvNAkMdHeomS",
        "colab_type": "code",
        "colab": {
          "autoexec": {
            "startup": false,
            "wait_interval": 0
          }
        }
      },
      "cell_type": "code",
      "source": [
        "!python -m spacy download en"
      ],
      "execution_count": 0,
      "outputs": []
    },
    {
      "metadata": {
        "id": "K15_gnz_evwS",
        "colab_type": "code",
        "colab": {
          "autoexec": {
            "startup": false,
            "wait_interval": 0
          }
        }
      },
      "cell_type": "code",
      "source": [
        "import codecs\n",
        "import spacy\n",
        "\n",
        "nlp = spacy.load('en')\n",
        "nlp.max_length = 2000000\n",
        "\n",
        "def tokenize_file(file_name):  \n",
        "  sents = []\n",
        "  with codecs.open(file_name, \"r\", \"utf-8\") as file:\n",
        "    doc = nlp(file.read())\n",
        "    sentence = []\n",
        "    for t in doc:\n",
        "      if t.is_sent_start:\n",
        "        if len(sentence)>0:\n",
        "          sents.append(sentence)\n",
        "        sentence = []        \n",
        "      if not t.is_space and not t.is_stop and not t.is_punct:\n",
        "        sentence.append(t.text)\n",
        "        \n",
        "  return sents"
      ],
      "execution_count": 0,
      "outputs": []
    },
    {
      "metadata": {
        "id": "7CGPSV8Kd7hL",
        "colab_type": "code",
        "colab": {
          "autoexec": {
            "startup": false,
            "wait_interval": 0
          },
          "base_uri": "https://localhost:8080/",
          "height": 2023
        },
        "outputId": "a4a37865-1563-4945-8a71-f09139e3c0a9",
        "executionInfo": {
          "status": "ok",
          "timestamp": 1533028603809,
          "user_tz": 420,
          "elapsed": 29936,
          "user": {
            "displayName": "Navjot Singh",
            "photoUrl": "//lh5.googleusercontent.com/-zyrw0088iZU/AAAAAAAAAAI/AAAAAAAAAXY/zotFrcGSHGo/s50-c-k-no/photo.jpg",
            "userId": "104871723712633899678"
          }
        }
      },
      "cell_type": "code",
      "source": [
        "from pydrive.auth import GoogleAuth\n",
        "from pydrive.drive import GoogleDrive\n",
        "from google.colab import auth\n",
        "from oauth2client.client import GoogleCredentials\n",
        "\n",
        "auth.authenticate_user()\n",
        "gauth = GoogleAuth()\n",
        "gauth.credentials = GoogleCredentials.get_application_default()\n",
        "drive = GoogleDrive(gauth)\n",
        "\n",
        "folder_list = drive.ListFile({'q': \"'root' in parents and trashed=false and mimeType='application/vnd.google-apps.folder'\"}).GetList()\n",
        "for folder in folder_list:\n",
        "  if folder['title'] == 'resume-corpus':\n",
        "    req_folder_id = folder['id']\n",
        "    break\n",
        "\n",
        "sentences = []\n",
        "file_list = drive.ListFile({'q': \"'%s' in parents and trashed=false\" % req_folder_id}).GetList()\n",
        "for file in file_list:\n",
        "  print('file: %s, id: %s' % (file['title'], file['id']))\n",
        "  download = drive.CreateFile({'id': file['id']})\n",
        "  download.GetContentFile(file['title'])\n",
        "  sentences.extend(tokenize_file(file['title']))\n",
        "  print('sentences:', len(sentences))"
      ],
      "execution_count": 14,
      "outputs": [
        {
          "output_type": "stream",
          "text": [
            "file: corpus-58.txt, id: 1Kn7Of08cwRmPjFCiRRZAQRmCdWUNuMhl\n",
            "sentences: 25\n",
            "file: corpus-59.txt, id: 1pfFwObTaT1pWp7AW2jC5o137kHOWL5jH\n",
            "sentences: 62\n",
            "file: corpus-63.txt, id: 1UnoScKMzOdCB2qNjmPUd1Tgl_0DCPoaK\n",
            "sentences: 83\n",
            "file: corpus-60.txt, id: 1Hz2XOLt9t33Yqfu1XGmJBci0paMzg1ce\n",
            "sentences: 83\n",
            "file: corpus-61.txt, id: 1Ts0g1fl8Ppq4HEGwL2f5EAye6IWfDgTJ\n",
            "sentences: 125\n",
            "file: corpus-57.txt, id: 1bQUX71UfHZd8K4O3RTOSb7BQ1RPmnr35\n",
            "sentences: 152\n",
            "file: corpus-65.txt, id: 1hNihXNbHeG1GmDl_IxYRTIkszchRKxFp\n",
            "sentences: 164\n",
            "file: corpus-64.txt, id: 1Xaz1-1OI23VnmEs58ICMG34kyXdW4lgp\n",
            "sentences: 209\n",
            "file: corpus-56.txt, id: 1xRGjOUHMH-zQHLzPi-YwexFZn_pWW7CG\n",
            "sentences: 242\n",
            "file: corpus-49.txt, id: 16vrlH11w8hP5XApYO1CKv9xX7v_BOozU\n",
            "sentences: 242\n",
            "file: corpus-48.txt, id: 199fYMT1wpYxNlAsaDpKynKgM6sZ2s2Mu\n",
            "sentences: 287\n",
            "file: corpus-50.txt, id: 1s2Izj_JOEpz938w0L1ZrxRh0psmupgi5\n",
            "sentences: 313\n",
            "file: corpus-45.txt, id: 1lZTKKoxb1sa_YCrW1mmCBc2W4YKeXobI\n",
            "sentences: 343\n",
            "file: corpus-52.txt, id: 1cIR-hmOLK2-2npES91FrXGgTXvD-tiO5\n",
            "sentences: 390\n",
            "file: corpus-53.txt, id: 1W2bsmhoYcaFsum0vtK8PXpYM1l2N-2G0\n",
            "sentences: 413\n",
            "file: corpus-51.txt, id: 1ZZs3u9l-JPpMHQxdndyP7hLXdXF33Jqv\n",
            "sentences: 460\n",
            "file: corpus-46.txt, id: 1WR9UxdPWonQAMj3slBUL0un3_V_XOzss\n",
            "sentences: 495\n",
            "file: corpus-54.txt, id: 1oDwtjp7Po54PaD8lNOMwAKX_iFO5aokG\n",
            "sentences: 526\n",
            "file: corpus-44.txt, id: 1mUJI0UpqIDH8vmUSRvk6Us3d_XzPA-rG\n",
            "sentences: 550\n",
            "file: corpus-41.txt, id: 1YQ82XmozX9By0s2WR7ETsEah79fVwOXf\n",
            "sentences: 640\n",
            "file: corpus-34.txt, id: 10g6Upx2hRjaU4BHPjQn7kokZoNxKxf7R\n",
            "sentences: 685\n",
            "file: corpus-37.txt, id: 1OLWFoi8ZZcIjqWlCFmOuK0_1Of6MhT8U\n",
            "sentences: 730\n",
            "file: corpus-43.txt, id: 13cn_RRzA8Unxm8yPmgn1hThEW_ShGYBb\n",
            "sentences: 759\n",
            "file: corpus-38.txt, id: 14wq7geoFfj8YUGmvK3tqmCKfDtpBOurJ\n",
            "sentences: 832\n",
            "file: corpus-42.txt, id: 1lNPvGeAH8LbuELCYLx3CwZqPcBSuRjER\n",
            "sentences: 872\n",
            "file: corpus-35.txt, id: 1VxL10AVwuRhg8qpS-VqzbRFOf7dbGhbg\n",
            "sentences: 893\n",
            "file: corpus-39.txt, id: 1u_DbWz6au3OVCg8q2IivWDmSIJmId4r8\n",
            "sentences: 938\n",
            "file: corpus-40.txt, id: 1jrN4sUHv7fyEjg_9fIiIVGcdRehcTL6u\n",
            "sentences: 953\n",
            "file: corpus-33.txt, id: 1vrXBANTjxqctinkpqrYeMbVAQFxVUe2f\n",
            "sentences: 1079\n",
            "file: corpus-28.txt, id: 1bt7URSEtjOM4G-9prCELEeuEnCJVRkyw\n",
            "sentences: 1097\n",
            "file: corpus-26.txt, id: 1Toi9zwQijAy65Bxd9WsUcpz_roK2bLsa\n",
            "sentences: 1133\n",
            "file: corpus-32.txt, id: 1ldOEKRckr4nELR1OBr7wLsz2-HHnr85O\n",
            "sentences: 1159\n",
            "file: corpus-31.txt, id: 1T8UMHOOBcR4XKC4jGZ5P5Ndod77AHG15\n",
            "sentences: 1223\n",
            "file: corpus-27.txt, id: 1tdn52VSx6xHOmKQ9VnLlHqa2dthlYFXl\n",
            "sentences: 1243\n",
            "file: corpus-29.txt, id: 1np7hoTZ-CSe4zs9mple2p6DaUqLqwp1l\n",
            "sentences: 1275\n",
            "file: corpus-30.txt, id: 1g4GzMDUmvp8wWELwMrCoxtLDugGRA2f8\n",
            "sentences: 1297\n",
            "file: corpus-24.txt, id: 1I0C3BHu5gDAHD-JFAIqmmVRyvzq7QU_6\n",
            "sentences: 1320\n",
            "file: corpus-25.txt, id: 15QleO5JM9iw6uhAk_6RRqsG2PQGCT9YO\n",
            "sentences: 1362\n",
            "file: corpus-22.txt, id: 1QFUUenwq7ad738cJUOCXMB3uadrxevRF\n",
            "sentences: 1417\n",
            "file: corpus-18.txt, id: 1PBiDvw-yZhDdlUBqO-OTTIiISwAJ9ffv\n",
            "sentences: 1442\n",
            "file: corpus-15.txt, id: 1FXuV91pxb0PjoBZ2eKtzGyjIWVvNeRj8\n",
            "sentences: 1460\n",
            "file: corpus-17.txt, id: 1D9mEekLIQfQ7jMlT7Hz-8vLnGBZU8ENv\n",
            "sentences: 1483\n",
            "file: corpus-16.txt, id: 1rjpwSo_Py9FBaHBFWXhwzIqlabNXiiRU\n",
            "sentences: 1493\n",
            "file: corpus-20.txt, id: 1Z7lRf2XbnQM2mOXA2RLmiYyrVmP-969z\n",
            "sentences: 1528\n",
            "file: corpus-14.txt, id: 1qRsfFfj8pzFn5VsXbWzGmi9H8oKwjrkD\n",
            "sentences: 1545\n",
            "file: corpus-13.txt, id: 1ui9DZ6aOT-AS56U6r0jE3qsELP9l3KtS\n",
            "sentences: 1571\n",
            "file: corpus-12.txt, id: 17iQSKdFrMkAOgsRhNeC9j2Zi9pWk-VwS\n",
            "sentences: 1617\n",
            "file: corpus-21.txt, id: 1rb26Mp8VW6s-DCImKcc6FrMbok_nZ3vJ\n",
            "sentences: 1617\n",
            "file: corpus-11.txt, id: 1pfAlxGTg7UCoeQxQ8EI6l5Lu1Nb_hT3z\n",
            "sentences: 1664\n",
            "file: corpus-2.txt, id: 1jExc1DA9gQ_nfHtkcW_wwD72LfOhJgPd\n",
            "sentences: 1714\n",
            "file: corpus-7.txt, id: 155MwVt01b57ZK5eMe8wnIHz_Q7MU4NFf\n"
          ],
          "name": "stdout"
        },
        {
          "output_type": "stream",
          "text": [
            "sentences: 1731\n",
            "file: corpus-3.txt, id: 1yu46RDFry1sWRaEr5VibRP4V433Mmgg0\n",
            "sentences: 1794\n",
            "file: corpus-4.txt, id: 1BKjCOcnfFwGHe4zR3mhOkMLqXT9oqVCK\n",
            "sentences: 1809\n",
            "file: corpus-6.txt, id: 1p_81Bd3OnvZ27dRmhIO2YV4eGkt2xAjb\n",
            "sentences: 1824\n",
            "file: corpus-8.txt, id: 1MIA6aHYGJVlKpZX0S62WxbDAs97F3TT5\n",
            "sentences: 1911\n",
            "file: corpus-9.txt, id: 14XBnUqV0mLxM_YWXL6CJL1VmsrG78u2w\n",
            "sentences: 1945\n",
            "file: corpus-10.txt, id: 1RUxcIUiA198T8IVCtqjFkOBdaRqYnF7f\n",
            "sentences: 1971\n",
            "file: corpus-5.txt, id: 1Xh649SduLK1KKdkc9mei8bS7CMIR8tkD\n",
            "sentences: 1983\n",
            "file: corpus-1.txt, id: 1QTjEZNRp688wpoVNzPslaRkUkddmGxa4\n",
            "sentences: 2005\n"
          ],
          "name": "stdout"
        }
      ]
    },
    {
      "metadata": {
        "id": "_dtLbnOkewpp",
        "colab_type": "code",
        "colab": {
          "autoexec": {
            "startup": false,
            "wait_interval": 0
          },
          "base_uri": "https://localhost:8080/",
          "height": 357
        },
        "outputId": "d4a9dbbb-a3fe-4d1b-ebba-b9aa9e3a1bc2",
        "executionInfo": {
          "status": "ok",
          "timestamp": 1533028619363,
          "user_tz": 420,
          "elapsed": 273,
          "user": {
            "displayName": "Navjot Singh",
            "photoUrl": "//lh5.googleusercontent.com/-zyrw0088iZU/AAAAAAAAAAI/AAAAAAAAAXY/zotFrcGSHGo/s50-c-k-no/photo.jpg",
            "userId": "104871723712633899678"
          }
        }
      },
      "cell_type": "code",
      "source": [
        "sentences[0:5]"
      ],
      "execution_count": 15,
      "outputs": [
        {
          "output_type": "execute_result",
          "data": {
            "text/plain": [
              "[['Jamie', 'Domingo', 'San', 'Francisco', 'CA', '650', '255', '5351'],\n",
              " ['contact@jamiedomingo.com'],\n",
              " ['https://github.com/jamiemd',\n",
              "  'PROJECTS',\n",
              "  'Decision',\n",
              "  'Jam',\n",
              "  'Decision',\n",
              "  'making',\n",
              "  'voting',\n",
              "  'app'],\n",
              " ['React', 'Express', 'Node', 'MongoDB'],\n",
              " ['A',\n",
              "  'month',\n",
              "  'project',\n",
              "  'I',\n",
              "  'collaborated',\n",
              "  'members',\n",
              "  'come',\n",
              "  'design',\n",
              "  'implementation']]"
            ]
          },
          "metadata": {
            "tags": []
          },
          "execution_count": 15
        }
      ]
    },
    {
      "metadata": {
        "id": "m02PgYwXnLmr",
        "colab_type": "code",
        "colab": {
          "autoexec": {
            "startup": false,
            "wait_interval": 0
          }
        }
      },
      "cell_type": "code",
      "source": [
        "import logging\n",
        "logging.basicConfig(format='%(asctime)s : %(levelname)s : %(message)s', level=logging.INFO)"
      ],
      "execution_count": 0,
      "outputs": []
    },
    {
      "metadata": {
        "id": "XZj5UuNKoGvJ",
        "colab_type": "code",
        "colab": {
          "autoexec": {
            "startup": false,
            "wait_interval": 0
          }
        }
      },
      "cell_type": "code",
      "source": [
        "import gensim.models.word2vec as w2v\n",
        "\n",
        "model = w2v.Word2Vec(min_count=3, \n",
        "                     window=7, \n",
        "                     size=100,\n",
        "                     seed=42)"
      ],
      "execution_count": 0,
      "outputs": []
    },
    {
      "metadata": {
        "id": "TuwRQxTfoJDK",
        "colab_type": "code",
        "colab": {
          "autoexec": {
            "startup": false,
            "wait_interval": 0
          },
          "base_uri": "https://localhost:8080/",
          "height": 204
        },
        "outputId": "81459f3f-71f5-46b1-8424-0074666c82f1",
        "executionInfo": {
          "status": "ok",
          "timestamp": 1533028681421,
          "user_tz": 420,
          "elapsed": 495,
          "user": {
            "displayName": "Navjot Singh",
            "photoUrl": "//lh5.googleusercontent.com/-zyrw0088iZU/AAAAAAAAAAI/AAAAAAAAAXY/zotFrcGSHGo/s50-c-k-no/photo.jpg",
            "userId": "104871723712633899678"
          }
        }
      },
      "cell_type": "code",
      "source": [
        "model.build_vocab(sentences)"
      ],
      "execution_count": 22,
      "outputs": [
        {
          "output_type": "stream",
          "text": [
            "2018-07-31 09:18:01,138 : INFO : collecting all words and their counts\n",
            "2018-07-31 09:18:01,139 : INFO : PROGRESS: at sentence #0, processed 0 words, keeping 0 word types\n",
            "2018-07-31 09:18:01,151 : INFO : collected 6121 word types from a corpus of 17642 raw words and 2005 sentences\n",
            "2018-07-31 09:18:01,153 : INFO : Loading a fresh vocabulary\n",
            "2018-07-31 09:18:01,162 : INFO : effective_min_count=3 retains 1292 unique words (21% of original 6121, drops 4829)\n",
            "2018-07-31 09:18:01,163 : INFO : effective_min_count=3 leaves 11794 word corpus (66% of original 17642, drops 5848)\n",
            "2018-07-31 09:18:01,171 : INFO : deleting the raw counts dictionary of 6121 items\n",
            "2018-07-31 09:18:01,172 : INFO : sample=0.001 downsamples 66 most-common words\n",
            "2018-07-31 09:18:01,173 : INFO : downsampling leaves estimated 10669 word corpus (90.5% of prior 11794)\n",
            "2018-07-31 09:18:01,181 : INFO : estimated required memory for 1292 words and 100 dimensions: 1679600 bytes\n",
            "2018-07-31 09:18:01,183 : INFO : resetting layer weights\n"
          ],
          "name": "stderr"
        }
      ]
    },
    {
      "metadata": {
        "id": "vZa9h8hyoMNh",
        "colab_type": "code",
        "colab": {
          "autoexec": {
            "startup": false,
            "wait_interval": 0
          },
          "base_uri": "https://localhost:8080/",
          "height": 34
        },
        "outputId": "a0fb138e-8fe5-456d-92f2-fa45fd7e7546",
        "executionInfo": {
          "status": "ok",
          "timestamp": 1533028683133,
          "user_tz": 420,
          "elapsed": 290,
          "user": {
            "displayName": "Navjot Singh",
            "photoUrl": "//lh5.googleusercontent.com/-zyrw0088iZU/AAAAAAAAAAI/AAAAAAAAAXY/zotFrcGSHGo/s50-c-k-no/photo.jpg",
            "userId": "104871723712633899678"
          }
        }
      },
      "cell_type": "code",
      "source": [
        "print(model)"
      ],
      "execution_count": 23,
      "outputs": [
        {
          "output_type": "stream",
          "text": [
            "Word2Vec(vocab=1292, size=100, alpha=0.025)\n"
          ],
          "name": "stdout"
        }
      ]
    },
    {
      "metadata": {
        "id": "UYOkSHeooN1w",
        "colab_type": "code",
        "colab": {
          "autoexec": {
            "startup": false,
            "wait_interval": 0
          },
          "base_uri": "https://localhost:8080/",
          "height": 6868
        },
        "outputId": "672329f7-6ffd-4b0b-8540-639b69215499",
        "executionInfo": {
          "status": "ok",
          "timestamp": 1533028691951,
          "user_tz": 420,
          "elapsed": 3616,
          "user": {
            "displayName": "Navjot Singh",
            "photoUrl": "//lh5.googleusercontent.com/-zyrw0088iZU/AAAAAAAAAAI/AAAAAAAAAXY/zotFrcGSHGo/s50-c-k-no/photo.jpg",
            "userId": "104871723712633899678"
          }
        }
      },
      "cell_type": "code",
      "source": [
        "model.train(sentences, \n",
        "            total_examples=len(sentences), \n",
        "            epochs=100)"
      ],
      "execution_count": 24,
      "outputs": [
        {
          "output_type": "stream",
          "text": [
            "2018-07-31 09:18:08,373 : INFO : training model with 3 workers on 1292 vocabulary and 100 features, using sg=0 hs=0 sample=0.001 negative=5 window=7\n",
            "2018-07-31 09:18:08,395 : INFO : worker thread finished; awaiting finish of 2 more threads\n",
            "2018-07-31 09:18:08,408 : INFO : worker thread finished; awaiting finish of 1 more threads\n",
            "2018-07-31 09:18:08,413 : INFO : worker thread finished; awaiting finish of 0 more threads\n",
            "2018-07-31 09:18:08,414 : INFO : EPOCH - 1 : training on 17642 raw words (10664 effective words) took 0.0s, 399328 effective words/s\n",
            "2018-07-31 09:18:08,428 : INFO : worker thread finished; awaiting finish of 2 more threads\n",
            "2018-07-31 09:18:08,444 : INFO : worker thread finished; awaiting finish of 1 more threads\n",
            "2018-07-31 09:18:08,446 : INFO : worker thread finished; awaiting finish of 0 more threads\n",
            "2018-07-31 09:18:08,450 : INFO : EPOCH - 2 : training on 17642 raw words (10664 effective words) took 0.0s, 416904 effective words/s\n",
            "2018-07-31 09:18:08,462 : INFO : worker thread finished; awaiting finish of 2 more threads\n",
            "2018-07-31 09:18:08,479 : INFO : worker thread finished; awaiting finish of 1 more threads\n",
            "2018-07-31 09:18:08,480 : INFO : worker thread finished; awaiting finish of 0 more threads\n",
            "2018-07-31 09:18:08,481 : INFO : EPOCH - 3 : training on 17642 raw words (10669 effective words) took 0.0s, 486995 effective words/s\n",
            "2018-07-31 09:18:08,494 : INFO : worker thread finished; awaiting finish of 2 more threads\n",
            "2018-07-31 09:18:08,511 : INFO : worker thread finished; awaiting finish of 1 more threads\n",
            "2018-07-31 09:18:08,515 : INFO : worker thread finished; awaiting finish of 0 more threads\n",
            "2018-07-31 09:18:08,517 : INFO : EPOCH - 4 : training on 17642 raw words (10687 effective words) took 0.0s, 418381 effective words/s\n",
            "2018-07-31 09:18:08,528 : INFO : worker thread finished; awaiting finish of 2 more threads\n",
            "2018-07-31 09:18:08,541 : INFO : worker thread finished; awaiting finish of 1 more threads\n",
            "2018-07-31 09:18:08,550 : INFO : worker thread finished; awaiting finish of 0 more threads\n",
            "2018-07-31 09:18:08,551 : INFO : EPOCH - 5 : training on 17642 raw words (10669 effective words) took 0.0s, 397217 effective words/s\n",
            "2018-07-31 09:18:08,561 : INFO : worker thread finished; awaiting finish of 2 more threads\n",
            "2018-07-31 09:18:08,576 : INFO : worker thread finished; awaiting finish of 1 more threads\n",
            "2018-07-31 09:18:08,582 : INFO : worker thread finished; awaiting finish of 0 more threads\n",
            "2018-07-31 09:18:08,583 : INFO : EPOCH - 6 : training on 17642 raw words (10683 effective words) took 0.0s, 427548 effective words/s\n",
            "2018-07-31 09:18:08,594 : INFO : worker thread finished; awaiting finish of 2 more threads\n",
            "2018-07-31 09:18:08,611 : INFO : worker thread finished; awaiting finish of 1 more threads\n",
            "2018-07-31 09:18:08,612 : INFO : worker thread finished; awaiting finish of 0 more threads\n",
            "2018-07-31 09:18:08,614 : INFO : EPOCH - 7 : training on 17642 raw words (10683 effective words) took 0.0s, 467878 effective words/s\n",
            "2018-07-31 09:18:08,630 : INFO : worker thread finished; awaiting finish of 2 more threads\n",
            "2018-07-31 09:18:08,643 : INFO : worker thread finished; awaiting finish of 1 more threads\n",
            "2018-07-31 09:18:08,646 : INFO : worker thread finished; awaiting finish of 0 more threads\n",
            "2018-07-31 09:18:08,649 : INFO : EPOCH - 8 : training on 17642 raw words (10692 effective words) took 0.0s, 470552 effective words/s\n",
            "2018-07-31 09:18:08,659 : INFO : worker thread finished; awaiting finish of 2 more threads\n",
            "2018-07-31 09:18:08,676 : INFO : worker thread finished; awaiting finish of 1 more threads\n",
            "2018-07-31 09:18:08,684 : INFO : worker thread finished; awaiting finish of 0 more threads\n",
            "2018-07-31 09:18:08,685 : INFO : EPOCH - 9 : training on 17642 raw words (10670 effective words) took 0.0s, 380279 effective words/s\n",
            "2018-07-31 09:18:08,698 : INFO : worker thread finished; awaiting finish of 2 more threads\n",
            "2018-07-31 09:18:08,711 : INFO : worker thread finished; awaiting finish of 1 more threads\n",
            "2018-07-31 09:18:08,713 : INFO : worker thread finished; awaiting finish of 0 more threads\n",
            "2018-07-31 09:18:08,714 : INFO : EPOCH - 10 : training on 17642 raw words (10693 effective words) took 0.0s, 489144 effective words/s\n",
            "2018-07-31 09:18:08,730 : INFO : worker thread finished; awaiting finish of 2 more threads\n"
          ],
          "name": "stderr"
        },
        {
          "output_type": "stream",
          "text": [
            "2018-07-31 09:18:08,745 : INFO : worker thread finished; awaiting finish of 1 more threads\n",
            "2018-07-31 09:18:08,748 : INFO : worker thread finished; awaiting finish of 0 more threads\n",
            "2018-07-31 09:18:08,749 : INFO : EPOCH - 11 : training on 17642 raw words (10664 effective words) took 0.0s, 461151 effective words/s\n",
            "2018-07-31 09:18:08,760 : INFO : worker thread finished; awaiting finish of 2 more threads\n",
            "2018-07-31 09:18:08,779 : INFO : worker thread finished; awaiting finish of 1 more threads\n",
            "2018-07-31 09:18:08,787 : INFO : worker thread finished; awaiting finish of 0 more threads\n",
            "2018-07-31 09:18:08,788 : INFO : EPOCH - 12 : training on 17642 raw words (10692 effective words) took 0.0s, 346470 effective words/s\n",
            "2018-07-31 09:18:08,798 : INFO : worker thread finished; awaiting finish of 2 more threads\n",
            "2018-07-31 09:18:08,814 : INFO : worker thread finished; awaiting finish of 1 more threads\n",
            "2018-07-31 09:18:08,817 : INFO : worker thread finished; awaiting finish of 0 more threads\n",
            "2018-07-31 09:18:08,818 : INFO : EPOCH - 13 : training on 17642 raw words (10680 effective words) took 0.0s, 532560 effective words/s\n",
            "2018-07-31 09:18:08,835 : INFO : worker thread finished; awaiting finish of 2 more threads\n",
            "2018-07-31 09:18:08,852 : INFO : worker thread finished; awaiting finish of 1 more threads\n",
            "2018-07-31 09:18:08,854 : INFO : worker thread finished; awaiting finish of 0 more threads\n",
            "2018-07-31 09:18:08,856 : INFO : EPOCH - 14 : training on 17642 raw words (10694 effective words) took 0.0s, 430890 effective words/s\n",
            "2018-07-31 09:18:08,868 : INFO : worker thread finished; awaiting finish of 2 more threads\n",
            "2018-07-31 09:18:08,887 : INFO : worker thread finished; awaiting finish of 1 more threads\n",
            "2018-07-31 09:18:08,889 : INFO : worker thread finished; awaiting finish of 0 more threads\n",
            "2018-07-31 09:18:08,890 : INFO : EPOCH - 15 : training on 17642 raw words (10691 effective words) took 0.0s, 421876 effective words/s\n",
            "2018-07-31 09:18:08,904 : INFO : worker thread finished; awaiting finish of 2 more threads\n",
            "2018-07-31 09:18:08,920 : INFO : worker thread finished; awaiting finish of 1 more threads\n",
            "2018-07-31 09:18:08,922 : INFO : worker thread finished; awaiting finish of 0 more threads\n",
            "2018-07-31 09:18:08,923 : INFO : EPOCH - 16 : training on 17642 raw words (10663 effective words) took 0.0s, 476115 effective words/s\n",
            "2018-07-31 09:18:08,941 : INFO : worker thread finished; awaiting finish of 2 more threads\n",
            "2018-07-31 09:18:08,953 : INFO : worker thread finished; awaiting finish of 1 more threads\n",
            "2018-07-31 09:18:08,958 : INFO : worker thread finished; awaiting finish of 0 more threads\n",
            "2018-07-31 09:18:08,959 : INFO : EPOCH - 17 : training on 17642 raw words (10643 effective words) took 0.0s, 391811 effective words/s\n",
            "2018-07-31 09:18:08,972 : INFO : worker thread finished; awaiting finish of 2 more threads\n",
            "2018-07-31 09:18:08,989 : INFO : worker thread finished; awaiting finish of 1 more threads\n",
            "2018-07-31 09:18:08,991 : INFO : worker thread finished; awaiting finish of 0 more threads\n",
            "2018-07-31 09:18:08,992 : INFO : EPOCH - 18 : training on 17642 raw words (10687 effective words) took 0.0s, 442747 effective words/s\n",
            "2018-07-31 09:18:09,007 : INFO : worker thread finished; awaiting finish of 2 more threads\n",
            "2018-07-31 09:18:09,022 : INFO : worker thread finished; awaiting finish of 1 more threads\n",
            "2018-07-31 09:18:09,026 : INFO : worker thread finished; awaiting finish of 0 more threads\n",
            "2018-07-31 09:18:09,027 : INFO : EPOCH - 19 : training on 17642 raw words (10680 effective words) took 0.0s, 434908 effective words/s\n",
            "2018-07-31 09:18:09,038 : INFO : worker thread finished; awaiting finish of 2 more threads\n",
            "2018-07-31 09:18:09,056 : INFO : worker thread finished; awaiting finish of 1 more threads\n",
            "2018-07-31 09:18:09,058 : INFO : worker thread finished; awaiting finish of 0 more threads\n",
            "2018-07-31 09:18:09,060 : INFO : EPOCH - 20 : training on 17642 raw words (10662 effective words) took 0.0s, 447159 effective words/s\n",
            "2018-07-31 09:18:09,074 : INFO : worker thread finished; awaiting finish of 2 more threads\n",
            "2018-07-31 09:18:09,089 : INFO : worker thread finished; awaiting finish of 1 more threads\n",
            "2018-07-31 09:18:09,099 : INFO : worker thread finished; awaiting finish of 0 more threads\n"
          ],
          "name": "stderr"
        },
        {
          "output_type": "stream",
          "text": [
            "2018-07-31 09:18:09,100 : INFO : EPOCH - 21 : training on 17642 raw words (10690 effective words) took 0.0s, 369960 effective words/s\n",
            "2018-07-31 09:18:09,114 : INFO : worker thread finished; awaiting finish of 2 more threads\n",
            "2018-07-31 09:18:09,131 : INFO : worker thread finished; awaiting finish of 1 more threads\n",
            "2018-07-31 09:18:09,136 : INFO : worker thread finished; awaiting finish of 0 more threads\n",
            "2018-07-31 09:18:09,138 : INFO : EPOCH - 22 : training on 17642 raw words (10688 effective words) took 0.0s, 389994 effective words/s\n",
            "2018-07-31 09:18:09,149 : INFO : worker thread finished; awaiting finish of 2 more threads\n",
            "2018-07-31 09:18:09,167 : INFO : worker thread finished; awaiting finish of 1 more threads\n",
            "2018-07-31 09:18:09,169 : INFO : worker thread finished; awaiting finish of 0 more threads\n",
            "2018-07-31 09:18:09,171 : INFO : EPOCH - 23 : training on 17642 raw words (10684 effective words) took 0.0s, 414017 effective words/s\n",
            "2018-07-31 09:18:09,188 : INFO : worker thread finished; awaiting finish of 2 more threads\n",
            "2018-07-31 09:18:09,200 : INFO : worker thread finished; awaiting finish of 1 more threads\n",
            "2018-07-31 09:18:09,202 : INFO : worker thread finished; awaiting finish of 0 more threads\n",
            "2018-07-31 09:18:09,203 : INFO : EPOCH - 24 : training on 17642 raw words (10649 effective words) took 0.0s, 472869 effective words/s\n",
            "2018-07-31 09:18:09,220 : INFO : worker thread finished; awaiting finish of 2 more threads\n",
            "2018-07-31 09:18:09,238 : INFO : worker thread finished; awaiting finish of 1 more threads\n",
            "2018-07-31 09:18:09,239 : INFO : worker thread finished; awaiting finish of 0 more threads\n",
            "2018-07-31 09:18:09,240 : INFO : EPOCH - 25 : training on 17642 raw words (10668 effective words) took 0.0s, 456444 effective words/s\n",
            "2018-07-31 09:18:09,256 : INFO : worker thread finished; awaiting finish of 2 more threads\n",
            "2018-07-31 09:18:09,272 : INFO : worker thread finished; awaiting finish of 1 more threads\n",
            "2018-07-31 09:18:09,276 : INFO : worker thread finished; awaiting finish of 0 more threads\n",
            "2018-07-31 09:18:09,278 : INFO : EPOCH - 26 : training on 17642 raw words (10673 effective words) took 0.0s, 411261 effective words/s\n",
            "2018-07-31 09:18:09,298 : INFO : worker thread finished; awaiting finish of 2 more threads\n",
            "2018-07-31 09:18:09,306 : INFO : worker thread finished; awaiting finish of 1 more threads\n",
            "2018-07-31 09:18:09,311 : INFO : worker thread finished; awaiting finish of 0 more threads\n",
            "2018-07-31 09:18:09,312 : INFO : EPOCH - 27 : training on 17642 raw words (10688 effective words) took 0.0s, 478107 effective words/s\n",
            "2018-07-31 09:18:09,326 : INFO : worker thread finished; awaiting finish of 2 more threads\n",
            "2018-07-31 09:18:09,341 : INFO : worker thread finished; awaiting finish of 1 more threads\n",
            "2018-07-31 09:18:09,349 : INFO : worker thread finished; awaiting finish of 0 more threads\n",
            "2018-07-31 09:18:09,351 : INFO : EPOCH - 28 : training on 17642 raw words (10682 effective words) took 0.0s, 373829 effective words/s\n",
            "2018-07-31 09:18:09,361 : INFO : worker thread finished; awaiting finish of 2 more threads\n",
            "2018-07-31 09:18:09,374 : INFO : worker thread finished; awaiting finish of 1 more threads\n",
            "2018-07-31 09:18:09,383 : INFO : worker thread finished; awaiting finish of 0 more threads\n",
            "2018-07-31 09:18:09,385 : INFO : EPOCH - 29 : training on 17642 raw words (10683 effective words) took 0.0s, 391393 effective words/s\n",
            "2018-07-31 09:18:09,398 : INFO : worker thread finished; awaiting finish of 2 more threads\n",
            "2018-07-31 09:18:09,413 : INFO : worker thread finished; awaiting finish of 1 more threads\n",
            "2018-07-31 09:18:09,420 : INFO : worker thread finished; awaiting finish of 0 more threads\n",
            "2018-07-31 09:18:09,421 : INFO : EPOCH - 30 : training on 17642 raw words (10645 effective words) took 0.0s, 395354 effective words/s\n",
            "2018-07-31 09:18:09,433 : INFO : worker thread finished; awaiting finish of 2 more threads\n",
            "2018-07-31 09:18:09,445 : INFO : worker thread finished; awaiting finish of 1 more threads\n",
            "2018-07-31 09:18:09,451 : INFO : worker thread finished; awaiting finish of 0 more threads\n",
            "2018-07-31 09:18:09,452 : INFO : EPOCH - 31 : training on 17642 raw words (10671 effective words) took 0.0s, 476275 effective words/s\n"
          ],
          "name": "stderr"
        },
        {
          "output_type": "stream",
          "text": [
            "2018-07-31 09:18:09,465 : INFO : worker thread finished; awaiting finish of 2 more threads\n",
            "2018-07-31 09:18:09,480 : INFO : worker thread finished; awaiting finish of 1 more threads\n",
            "2018-07-31 09:18:09,483 : INFO : worker thread finished; awaiting finish of 0 more threads\n",
            "2018-07-31 09:18:09,486 : INFO : EPOCH - 32 : training on 17642 raw words (10718 effective words) took 0.0s, 432662 effective words/s\n",
            "2018-07-31 09:18:09,507 : INFO : worker thread finished; awaiting finish of 2 more threads\n",
            "2018-07-31 09:18:09,509 : INFO : worker thread finished; awaiting finish of 1 more threads\n",
            "2018-07-31 09:18:09,510 : INFO : worker thread finished; awaiting finish of 0 more threads\n",
            "2018-07-31 09:18:09,511 : INFO : EPOCH - 33 : training on 17642 raw words (10636 effective words) took 0.0s, 605725 effective words/s\n",
            "2018-07-31 09:18:09,521 : INFO : worker thread finished; awaiting finish of 2 more threads\n",
            "2018-07-31 09:18:09,535 : INFO : worker thread finished; awaiting finish of 1 more threads\n",
            "2018-07-31 09:18:09,541 : INFO : worker thread finished; awaiting finish of 0 more threads\n",
            "2018-07-31 09:18:09,543 : INFO : EPOCH - 34 : training on 17642 raw words (10708 effective words) took 0.0s, 425039 effective words/s\n",
            "2018-07-31 09:18:09,556 : INFO : worker thread finished; awaiting finish of 2 more threads\n",
            "2018-07-31 09:18:09,570 : INFO : worker thread finished; awaiting finish of 1 more threads\n",
            "2018-07-31 09:18:09,578 : INFO : worker thread finished; awaiting finish of 0 more threads\n",
            "2018-07-31 09:18:09,579 : INFO : EPOCH - 35 : training on 17642 raw words (10633 effective words) took 0.0s, 388415 effective words/s\n",
            "2018-07-31 09:18:09,590 : INFO : worker thread finished; awaiting finish of 2 more threads\n",
            "2018-07-31 09:18:09,607 : INFO : worker thread finished; awaiting finish of 1 more threads\n",
            "2018-07-31 09:18:09,611 : INFO : worker thread finished; awaiting finish of 0 more threads\n",
            "2018-07-31 09:18:09,612 : INFO : EPOCH - 36 : training on 17642 raw words (10636 effective words) took 0.0s, 406425 effective words/s\n",
            "2018-07-31 09:18:09,624 : INFO : worker thread finished; awaiting finish of 2 more threads\n",
            "2018-07-31 09:18:09,638 : INFO : worker thread finished; awaiting finish of 1 more threads\n",
            "2018-07-31 09:18:09,642 : INFO : worker thread finished; awaiting finish of 0 more threads\n",
            "2018-07-31 09:18:09,644 : INFO : EPOCH - 37 : training on 17642 raw words (10682 effective words) took 0.0s, 534100 effective words/s\n",
            "2018-07-31 09:18:09,655 : INFO : worker thread finished; awaiting finish of 2 more threads\n",
            "2018-07-31 09:18:09,667 : INFO : worker thread finished; awaiting finish of 1 more threads\n",
            "2018-07-31 09:18:09,673 : INFO : worker thread finished; awaiting finish of 0 more threads\n",
            "2018-07-31 09:18:09,674 : INFO : EPOCH - 38 : training on 17642 raw words (10667 effective words) took 0.0s, 481815 effective words/s\n",
            "2018-07-31 09:18:09,685 : INFO : worker thread finished; awaiting finish of 2 more threads\n",
            "2018-07-31 09:18:09,696 : INFO : worker thread finished; awaiting finish of 1 more threads\n",
            "2018-07-31 09:18:09,698 : INFO : worker thread finished; awaiting finish of 0 more threads\n",
            "2018-07-31 09:18:09,699 : INFO : EPOCH - 39 : training on 17642 raw words (10664 effective words) took 0.0s, 614310 effective words/s\n",
            "2018-07-31 09:18:09,714 : INFO : worker thread finished; awaiting finish of 2 more threads\n",
            "2018-07-31 09:18:09,726 : INFO : worker thread finished; awaiting finish of 1 more threads\n",
            "2018-07-31 09:18:09,731 : INFO : worker thread finished; awaiting finish of 0 more threads\n",
            "2018-07-31 09:18:09,733 : INFO : EPOCH - 40 : training on 17642 raw words (10708 effective words) took 0.0s, 475251 effective words/s\n",
            "2018-07-31 09:18:09,743 : INFO : worker thread finished; awaiting finish of 2 more threads\n",
            "2018-07-31 09:18:09,754 : INFO : worker thread finished; awaiting finish of 1 more threads\n",
            "2018-07-31 09:18:09,763 : INFO : worker thread finished; awaiting finish of 0 more threads\n",
            "2018-07-31 09:18:09,764 : INFO : EPOCH - 41 : training on 17642 raw words (10663 effective words) took 0.0s, 454934 effective words/s\n",
            "2018-07-31 09:18:09,774 : INFO : worker thread finished; awaiting finish of 2 more threads\n",
            "2018-07-31 09:18:09,787 : INFO : worker thread finished; awaiting finish of 1 more threads\n"
          ],
          "name": "stderr"
        },
        {
          "output_type": "stream",
          "text": [
            "2018-07-31 09:18:09,788 : INFO : worker thread finished; awaiting finish of 0 more threads\n",
            "2018-07-31 09:18:09,790 : INFO : EPOCH - 42 : training on 17642 raw words (10691 effective words) took 0.0s, 573033 effective words/s\n",
            "2018-07-31 09:18:09,801 : INFO : worker thread finished; awaiting finish of 2 more threads\n",
            "2018-07-31 09:18:09,814 : INFO : worker thread finished; awaiting finish of 1 more threads\n",
            "2018-07-31 09:18:09,816 : INFO : worker thread finished; awaiting finish of 0 more threads\n",
            "2018-07-31 09:18:09,818 : INFO : EPOCH - 43 : training on 17642 raw words (10670 effective words) took 0.0s, 526501 effective words/s\n",
            "2018-07-31 09:18:09,829 : INFO : worker thread finished; awaiting finish of 2 more threads\n",
            "2018-07-31 09:18:09,844 : INFO : worker thread finished; awaiting finish of 1 more threads\n",
            "2018-07-31 09:18:09,846 : INFO : worker thread finished; awaiting finish of 0 more threads\n",
            "2018-07-31 09:18:09,849 : INFO : EPOCH - 44 : training on 17642 raw words (10673 effective words) took 0.0s, 451274 effective words/s\n",
            "2018-07-31 09:18:09,862 : INFO : worker thread finished; awaiting finish of 2 more threads\n",
            "2018-07-31 09:18:09,875 : INFO : worker thread finished; awaiting finish of 1 more threads\n",
            "2018-07-31 09:18:09,876 : INFO : worker thread finished; awaiting finish of 0 more threads\n",
            "2018-07-31 09:18:09,878 : INFO : EPOCH - 45 : training on 17642 raw words (10642 effective words) took 0.0s, 562596 effective words/s\n",
            "2018-07-31 09:18:09,889 : INFO : worker thread finished; awaiting finish of 2 more threads\n",
            "2018-07-31 09:18:09,907 : INFO : worker thread finished; awaiting finish of 1 more threads\n",
            "2018-07-31 09:18:09,911 : INFO : worker thread finished; awaiting finish of 0 more threads\n",
            "2018-07-31 09:18:09,912 : INFO : EPOCH - 46 : training on 17642 raw words (10666 effective words) took 0.0s, 410373 effective words/s\n",
            "2018-07-31 09:18:09,923 : INFO : worker thread finished; awaiting finish of 2 more threads\n",
            "2018-07-31 09:18:09,939 : INFO : worker thread finished; awaiting finish of 1 more threads\n",
            "2018-07-31 09:18:09,941 : INFO : worker thread finished; awaiting finish of 0 more threads\n",
            "2018-07-31 09:18:09,942 : INFO : EPOCH - 47 : training on 17642 raw words (10641 effective words) took 0.0s, 502694 effective words/s\n",
            "2018-07-31 09:18:09,956 : INFO : worker thread finished; awaiting finish of 2 more threads\n",
            "2018-07-31 09:18:09,967 : INFO : worker thread finished; awaiting finish of 1 more threads\n",
            "2018-07-31 09:18:09,972 : INFO : worker thread finished; awaiting finish of 0 more threads\n",
            "2018-07-31 09:18:09,974 : INFO : EPOCH - 48 : training on 17642 raw words (10678 effective words) took 0.0s, 516583 effective words/s\n",
            "2018-07-31 09:18:09,984 : INFO : worker thread finished; awaiting finish of 2 more threads\n",
            "2018-07-31 09:18:09,997 : INFO : worker thread finished; awaiting finish of 1 more threads\n",
            "2018-07-31 09:18:09,999 : INFO : worker thread finished; awaiting finish of 0 more threads\n",
            "2018-07-31 09:18:10,001 : INFO : EPOCH - 49 : training on 17642 raw words (10690 effective words) took 0.0s, 521065 effective words/s\n",
            "2018-07-31 09:18:10,011 : INFO : worker thread finished; awaiting finish of 2 more threads\n",
            "2018-07-31 09:18:10,021 : INFO : worker thread finished; awaiting finish of 1 more threads\n",
            "2018-07-31 09:18:10,025 : INFO : worker thread finished; awaiting finish of 0 more threads\n",
            "2018-07-31 09:18:10,027 : INFO : EPOCH - 50 : training on 17642 raw words (10678 effective words) took 0.0s, 583938 effective words/s\n",
            "2018-07-31 09:18:10,035 : INFO : worker thread finished; awaiting finish of 2 more threads\n",
            "2018-07-31 09:18:10,050 : INFO : worker thread finished; awaiting finish of 1 more threads\n",
            "2018-07-31 09:18:10,054 : INFO : worker thread finished; awaiting finish of 0 more threads\n",
            "2018-07-31 09:18:10,055 : INFO : EPOCH - 51 : training on 17642 raw words (10679 effective words) took 0.0s, 486838 effective words/s\n",
            "2018-07-31 09:18:10,063 : INFO : worker thread finished; awaiting finish of 2 more threads\n",
            "2018-07-31 09:18:10,072 : INFO : worker thread finished; awaiting finish of 1 more threads\n",
            "2018-07-31 09:18:10,078 : INFO : worker thread finished; awaiting finish of 0 more threads\n",
            "2018-07-31 09:18:10,079 : INFO : EPOCH - 52 : training on 17642 raw words (10616 effective words) took 0.0s, 625427 effective words/s\n",
            "2018-07-31 09:18:10,089 : INFO : worker thread finished; awaiting finish of 2 more threads\n"
          ],
          "name": "stderr"
        },
        {
          "output_type": "stream",
          "text": [
            "2018-07-31 09:18:10,101 : INFO : worker thread finished; awaiting finish of 1 more threads\n",
            "2018-07-31 09:18:10,104 : INFO : worker thread finished; awaiting finish of 0 more threads\n",
            "2018-07-31 09:18:10,105 : INFO : EPOCH - 53 : training on 17642 raw words (10673 effective words) took 0.0s, 580981 effective words/s\n",
            "2018-07-31 09:18:10,114 : INFO : worker thread finished; awaiting finish of 2 more threads\n",
            "2018-07-31 09:18:10,129 : INFO : worker thread finished; awaiting finish of 1 more threads\n",
            "2018-07-31 09:18:10,131 : INFO : worker thread finished; awaiting finish of 0 more threads\n",
            "2018-07-31 09:18:10,132 : INFO : EPOCH - 54 : training on 17642 raw words (10689 effective words) took 0.0s, 500009 effective words/s\n",
            "2018-07-31 09:18:10,142 : INFO : worker thread finished; awaiting finish of 2 more threads\n",
            "2018-07-31 09:18:10,154 : INFO : worker thread finished; awaiting finish of 1 more threads\n",
            "2018-07-31 09:18:10,156 : INFO : worker thread finished; awaiting finish of 0 more threads\n",
            "2018-07-31 09:18:10,160 : INFO : EPOCH - 55 : training on 17642 raw words (10684 effective words) took 0.0s, 499266 effective words/s\n",
            "2018-07-31 09:18:10,172 : INFO : worker thread finished; awaiting finish of 2 more threads\n",
            "2018-07-31 09:18:10,183 : INFO : worker thread finished; awaiting finish of 1 more threads\n",
            "2018-07-31 09:18:10,193 : INFO : worker thread finished; awaiting finish of 0 more threads\n",
            "2018-07-31 09:18:10,194 : INFO : EPOCH - 56 : training on 17642 raw words (10641 effective words) took 0.0s, 417699 effective words/s\n",
            "2018-07-31 09:18:10,205 : INFO : worker thread finished; awaiting finish of 2 more threads\n",
            "2018-07-31 09:18:10,222 : INFO : worker thread finished; awaiting finish of 1 more threads\n",
            "2018-07-31 09:18:10,224 : INFO : worker thread finished; awaiting finish of 0 more threads\n",
            "2018-07-31 09:18:10,226 : INFO : EPOCH - 57 : training on 17642 raw words (10646 effective words) took 0.0s, 473571 effective words/s\n",
            "2018-07-31 09:18:10,243 : INFO : worker thread finished; awaiting finish of 2 more threads\n",
            "2018-07-31 09:18:10,261 : INFO : worker thread finished; awaiting finish of 1 more threads\n",
            "2018-07-31 09:18:10,267 : INFO : worker thread finished; awaiting finish of 0 more threads\n",
            "2018-07-31 09:18:10,268 : INFO : EPOCH - 58 : training on 17642 raw words (10681 effective words) took 0.0s, 327341 effective words/s\n",
            "2018-07-31 09:18:10,278 : INFO : worker thread finished; awaiting finish of 2 more threads\n",
            "2018-07-31 09:18:10,293 : INFO : worker thread finished; awaiting finish of 1 more threads\n",
            "2018-07-31 09:18:10,299 : INFO : worker thread finished; awaiting finish of 0 more threads\n",
            "2018-07-31 09:18:10,300 : INFO : EPOCH - 59 : training on 17642 raw words (10683 effective words) took 0.0s, 431915 effective words/s\n",
            "2018-07-31 09:18:10,314 : INFO : worker thread finished; awaiting finish of 2 more threads\n",
            "2018-07-31 09:18:10,326 : INFO : worker thread finished; awaiting finish of 1 more threads\n",
            "2018-07-31 09:18:10,328 : INFO : worker thread finished; awaiting finish of 0 more threads\n",
            "2018-07-31 09:18:10,330 : INFO : EPOCH - 60 : training on 17642 raw words (10654 effective words) took 0.0s, 494383 effective words/s\n",
            "2018-07-31 09:18:10,343 : INFO : worker thread finished; awaiting finish of 2 more threads\n",
            "2018-07-31 09:18:10,355 : INFO : worker thread finished; awaiting finish of 1 more threads\n",
            "2018-07-31 09:18:10,363 : INFO : worker thread finished; awaiting finish of 0 more threads\n",
            "2018-07-31 09:18:10,365 : INFO : EPOCH - 61 : training on 17642 raw words (10663 effective words) took 0.0s, 400166 effective words/s\n",
            "2018-07-31 09:18:10,375 : INFO : worker thread finished; awaiting finish of 2 more threads\n",
            "2018-07-31 09:18:10,391 : INFO : worker thread finished; awaiting finish of 1 more threads\n",
            "2018-07-31 09:18:10,393 : INFO : worker thread finished; awaiting finish of 0 more threads\n",
            "2018-07-31 09:18:10,396 : INFO : EPOCH - 62 : training on 17642 raw words (10647 effective words) took 0.0s, 453179 effective words/s\n",
            "2018-07-31 09:18:10,410 : INFO : worker thread finished; awaiting finish of 2 more threads\n",
            "2018-07-31 09:18:10,421 : INFO : worker thread finished; awaiting finish of 1 more threads\n",
            "2018-07-31 09:18:10,427 : INFO : worker thread finished; awaiting finish of 0 more threads\n"
          ],
          "name": "stderr"
        },
        {
          "output_type": "stream",
          "text": [
            "2018-07-31 09:18:10,428 : INFO : EPOCH - 63 : training on 17642 raw words (10682 effective words) took 0.0s, 441882 effective words/s\n",
            "2018-07-31 09:18:10,440 : INFO : worker thread finished; awaiting finish of 2 more threads\n",
            "2018-07-31 09:18:10,456 : INFO : worker thread finished; awaiting finish of 1 more threads\n",
            "2018-07-31 09:18:10,458 : INFO : worker thread finished; awaiting finish of 0 more threads\n",
            "2018-07-31 09:18:10,459 : INFO : EPOCH - 64 : training on 17642 raw words (10676 effective words) took 0.0s, 505066 effective words/s\n",
            "2018-07-31 09:18:10,470 : INFO : worker thread finished; awaiting finish of 2 more threads\n",
            "2018-07-31 09:18:10,487 : INFO : worker thread finished; awaiting finish of 1 more threads\n",
            "2018-07-31 09:18:10,489 : INFO : worker thread finished; awaiting finish of 0 more threads\n",
            "2018-07-31 09:18:10,492 : INFO : EPOCH - 65 : training on 17642 raw words (10661 effective words) took 0.0s, 431738 effective words/s\n",
            "2018-07-31 09:18:10,509 : INFO : worker thread finished; awaiting finish of 2 more threads\n",
            "2018-07-31 09:18:10,527 : INFO : worker thread finished; awaiting finish of 1 more threads\n",
            "2018-07-31 09:18:10,533 : INFO : worker thread finished; awaiting finish of 0 more threads\n",
            "2018-07-31 09:18:10,536 : INFO : EPOCH - 66 : training on 17642 raw words (10692 effective words) took 0.0s, 341555 effective words/s\n",
            "2018-07-31 09:18:10,554 : INFO : worker thread finished; awaiting finish of 2 more threads\n",
            "2018-07-31 09:18:10,564 : INFO : worker thread finished; awaiting finish of 1 more threads\n",
            "2018-07-31 09:18:10,570 : INFO : worker thread finished; awaiting finish of 0 more threads\n",
            "2018-07-31 09:18:10,573 : INFO : EPOCH - 67 : training on 17642 raw words (10705 effective words) took 0.0s, 388375 effective words/s\n",
            "2018-07-31 09:18:10,587 : INFO : worker thread finished; awaiting finish of 2 more threads\n",
            "2018-07-31 09:18:10,604 : INFO : worker thread finished; awaiting finish of 1 more threads\n",
            "2018-07-31 09:18:10,607 : INFO : worker thread finished; awaiting finish of 0 more threads\n",
            "2018-07-31 09:18:10,609 : INFO : EPOCH - 68 : training on 17642 raw words (10661 effective words) took 0.0s, 424681 effective words/s\n",
            "2018-07-31 09:18:10,619 : INFO : worker thread finished; awaiting finish of 2 more threads\n",
            "2018-07-31 09:18:10,635 : INFO : worker thread finished; awaiting finish of 1 more threads\n",
            "2018-07-31 09:18:10,638 : INFO : worker thread finished; awaiting finish of 0 more threads\n",
            "2018-07-31 09:18:10,639 : INFO : EPOCH - 69 : training on 17642 raw words (10629 effective words) took 0.0s, 470141 effective words/s\n",
            "2018-07-31 09:18:10,651 : INFO : worker thread finished; awaiting finish of 2 more threads\n",
            "2018-07-31 09:18:10,664 : INFO : worker thread finished; awaiting finish of 1 more threads\n",
            "2018-07-31 09:18:10,672 : INFO : worker thread finished; awaiting finish of 0 more threads\n",
            "2018-07-31 09:18:10,673 : INFO : EPOCH - 70 : training on 17642 raw words (10688 effective words) took 0.0s, 404399 effective words/s\n",
            "2018-07-31 09:18:10,684 : INFO : worker thread finished; awaiting finish of 2 more threads\n",
            "2018-07-31 09:18:10,705 : INFO : worker thread finished; awaiting finish of 1 more threads\n",
            "2018-07-31 09:18:10,714 : INFO : worker thread finished; awaiting finish of 0 more threads\n",
            "2018-07-31 09:18:10,715 : INFO : EPOCH - 71 : training on 17642 raw words (10700 effective words) took 0.0s, 320022 effective words/s\n",
            "2018-07-31 09:18:10,727 : INFO : worker thread finished; awaiting finish of 2 more threads\n",
            "2018-07-31 09:18:10,747 : INFO : worker thread finished; awaiting finish of 1 more threads\n",
            "2018-07-31 09:18:10,753 : INFO : worker thread finished; awaiting finish of 0 more threads\n",
            "2018-07-31 09:18:10,754 : INFO : EPOCH - 72 : training on 17642 raw words (10678 effective words) took 0.0s, 353264 effective words/s\n",
            "2018-07-31 09:18:10,766 : INFO : worker thread finished; awaiting finish of 2 more threads\n",
            "2018-07-31 09:18:10,780 : INFO : worker thread finished; awaiting finish of 1 more threads\n",
            "2018-07-31 09:18:10,785 : INFO : worker thread finished; awaiting finish of 0 more threads\n",
            "2018-07-31 09:18:10,787 : INFO : EPOCH - 73 : training on 17642 raw words (10662 effective words) took 0.0s, 456789 effective words/s\n"
          ],
          "name": "stderr"
        },
        {
          "output_type": "stream",
          "text": [
            "2018-07-31 09:18:10,799 : INFO : worker thread finished; awaiting finish of 2 more threads\n",
            "2018-07-31 09:18:10,818 : INFO : worker thread finished; awaiting finish of 1 more threads\n",
            "2018-07-31 09:18:10,822 : INFO : worker thread finished; awaiting finish of 0 more threads\n",
            "2018-07-31 09:18:10,826 : INFO : EPOCH - 74 : training on 17642 raw words (10666 effective words) took 0.0s, 360507 effective words/s\n",
            "2018-07-31 09:18:10,842 : INFO : worker thread finished; awaiting finish of 2 more threads\n",
            "2018-07-31 09:18:10,854 : INFO : worker thread finished; awaiting finish of 1 more threads\n",
            "2018-07-31 09:18:10,856 : INFO : worker thread finished; awaiting finish of 0 more threads\n",
            "2018-07-31 09:18:10,860 : INFO : EPOCH - 75 : training on 17642 raw words (10604 effective words) took 0.0s, 410579 effective words/s\n",
            "2018-07-31 09:18:10,872 : INFO : worker thread finished; awaiting finish of 2 more threads\n",
            "2018-07-31 09:18:10,891 : INFO : worker thread finished; awaiting finish of 1 more threads\n",
            "2018-07-31 09:18:10,896 : INFO : worker thread finished; awaiting finish of 0 more threads\n",
            "2018-07-31 09:18:10,897 : INFO : EPOCH - 76 : training on 17642 raw words (10649 effective words) took 0.0s, 383808 effective words/s\n",
            "2018-07-31 09:18:10,909 : INFO : worker thread finished; awaiting finish of 2 more threads\n",
            "2018-07-31 09:18:10,928 : INFO : worker thread finished; awaiting finish of 1 more threads\n",
            "2018-07-31 09:18:10,935 : INFO : worker thread finished; awaiting finish of 0 more threads\n",
            "2018-07-31 09:18:10,936 : INFO : EPOCH - 77 : training on 17642 raw words (10675 effective words) took 0.0s, 357929 effective words/s\n",
            "2018-07-31 09:18:10,953 : INFO : worker thread finished; awaiting finish of 2 more threads\n",
            "2018-07-31 09:18:10,966 : INFO : worker thread finished; awaiting finish of 1 more threads\n",
            "2018-07-31 09:18:10,973 : INFO : worker thread finished; awaiting finish of 0 more threads\n",
            "2018-07-31 09:18:10,974 : INFO : EPOCH - 78 : training on 17642 raw words (10635 effective words) took 0.0s, 419632 effective words/s\n",
            "2018-07-31 09:18:10,984 : INFO : worker thread finished; awaiting finish of 2 more threads\n",
            "2018-07-31 09:18:11,002 : INFO : worker thread finished; awaiting finish of 1 more threads\n",
            "2018-07-31 09:18:11,005 : INFO : worker thread finished; awaiting finish of 0 more threads\n",
            "2018-07-31 09:18:11,008 : INFO : EPOCH - 79 : training on 17642 raw words (10730 effective words) took 0.0s, 405397 effective words/s\n",
            "2018-07-31 09:18:11,024 : INFO : worker thread finished; awaiting finish of 2 more threads\n",
            "2018-07-31 09:18:11,035 : INFO : worker thread finished; awaiting finish of 1 more threads\n",
            "2018-07-31 09:18:11,043 : INFO : worker thread finished; awaiting finish of 0 more threads\n",
            "2018-07-31 09:18:11,045 : INFO : EPOCH - 80 : training on 17642 raw words (10677 effective words) took 0.0s, 399415 effective words/s\n",
            "2018-07-31 09:18:11,061 : INFO : worker thread finished; awaiting finish of 2 more threads\n",
            "2018-07-31 09:18:11,077 : INFO : worker thread finished; awaiting finish of 1 more threads\n",
            "2018-07-31 09:18:11,080 : INFO : worker thread finished; awaiting finish of 0 more threads\n",
            "2018-07-31 09:18:11,084 : INFO : EPOCH - 81 : training on 17642 raw words (10642 effective words) took 0.0s, 401885 effective words/s\n",
            "2018-07-31 09:18:11,096 : INFO : worker thread finished; awaiting finish of 2 more threads\n",
            "2018-07-31 09:18:11,111 : INFO : worker thread finished; awaiting finish of 1 more threads\n",
            "2018-07-31 09:18:11,118 : INFO : worker thread finished; awaiting finish of 0 more threads\n",
            "2018-07-31 09:18:11,120 : INFO : EPOCH - 82 : training on 17642 raw words (10648 effective words) took 0.0s, 402258 effective words/s\n",
            "2018-07-31 09:18:11,132 : INFO : worker thread finished; awaiting finish of 2 more threads\n",
            "2018-07-31 09:18:11,146 : INFO : worker thread finished; awaiting finish of 1 more threads\n",
            "2018-07-31 09:18:11,156 : INFO : worker thread finished; awaiting finish of 0 more threads\n",
            "2018-07-31 09:18:11,157 : INFO : EPOCH - 83 : training on 17642 raw words (10666 effective words) took 0.0s, 374728 effective words/s\n",
            "2018-07-31 09:18:11,171 : INFO : worker thread finished; awaiting finish of 2 more threads"
          ],
          "name": "stderr"
        },
        {
          "output_type": "stream",
          "text": [
            "\n",
            "2018-07-31 09:18:11,184 : INFO : worker thread finished; awaiting finish of 1 more threads\n",
            "2018-07-31 09:18:11,195 : INFO : worker thread finished; awaiting finish of 0 more threads\n",
            "2018-07-31 09:18:11,196 : INFO : EPOCH - 84 : training on 17642 raw words (10683 effective words) took 0.0s, 382860 effective words/s\n",
            "2018-07-31 09:18:11,211 : INFO : worker thread finished; awaiting finish of 2 more threads\n",
            "2018-07-31 09:18:11,224 : INFO : worker thread finished; awaiting finish of 1 more threads\n",
            "2018-07-31 09:18:11,226 : INFO : worker thread finished; awaiting finish of 0 more threads\n",
            "2018-07-31 09:18:11,228 : INFO : EPOCH - 85 : training on 17642 raw words (10680 effective words) took 0.0s, 435063 effective words/s\n",
            "2018-07-31 09:18:11,241 : INFO : worker thread finished; awaiting finish of 2 more threads\n",
            "2018-07-31 09:18:11,256 : INFO : worker thread finished; awaiting finish of 1 more threads\n",
            "2018-07-31 09:18:11,261 : INFO : worker thread finished; awaiting finish of 0 more threads\n",
            "2018-07-31 09:18:11,262 : INFO : EPOCH - 86 : training on 17642 raw words (10703 effective words) took 0.0s, 452492 effective words/s\n",
            "2018-07-31 09:18:11,275 : INFO : worker thread finished; awaiting finish of 2 more threads\n",
            "2018-07-31 09:18:11,289 : INFO : worker thread finished; awaiting finish of 1 more threads\n",
            "2018-07-31 09:18:11,297 : INFO : worker thread finished; awaiting finish of 0 more threads\n",
            "2018-07-31 09:18:11,300 : INFO : EPOCH - 87 : training on 17642 raw words (10691 effective words) took 0.0s, 383705 effective words/s\n",
            "2018-07-31 09:18:11,313 : INFO : worker thread finished; awaiting finish of 2 more threads\n",
            "2018-07-31 09:18:11,326 : INFO : worker thread finished; awaiting finish of 1 more threads\n",
            "2018-07-31 09:18:11,335 : INFO : worker thread finished; awaiting finish of 0 more threads\n",
            "2018-07-31 09:18:11,336 : INFO : EPOCH - 88 : training on 17642 raw words (10649 effective words) took 0.0s, 413402 effective words/s\n",
            "2018-07-31 09:18:11,348 : INFO : worker thread finished; awaiting finish of 2 more threads\n",
            "2018-07-31 09:18:11,363 : INFO : worker thread finished; awaiting finish of 1 more threads\n",
            "2018-07-31 09:18:11,370 : INFO : worker thread finished; awaiting finish of 0 more threads\n",
            "2018-07-31 09:18:11,372 : INFO : EPOCH - 89 : training on 17642 raw words (10664 effective words) took 0.0s, 401436 effective words/s\n",
            "2018-07-31 09:18:11,386 : INFO : worker thread finished; awaiting finish of 2 more threads\n",
            "2018-07-31 09:18:11,401 : INFO : worker thread finished; awaiting finish of 1 more threads\n",
            "2018-07-31 09:18:11,403 : INFO : worker thread finished; awaiting finish of 0 more threads\n",
            "2018-07-31 09:18:11,405 : INFO : EPOCH - 90 : training on 17642 raw words (10684 effective words) took 0.0s, 430680 effective words/s\n",
            "2018-07-31 09:18:11,417 : INFO : worker thread finished; awaiting finish of 2 more threads\n",
            "2018-07-31 09:18:11,432 : INFO : worker thread finished; awaiting finish of 1 more threads\n",
            "2018-07-31 09:18:11,438 : INFO : worker thread finished; awaiting finish of 0 more threads\n",
            "2018-07-31 09:18:11,440 : INFO : EPOCH - 91 : training on 17642 raw words (10654 effective words) took 0.0s, 425120 effective words/s\n",
            "2018-07-31 09:18:11,455 : INFO : worker thread finished; awaiting finish of 2 more threads\n",
            "2018-07-31 09:18:11,466 : INFO : worker thread finished; awaiting finish of 1 more threads\n",
            "2018-07-31 09:18:11,473 : INFO : worker thread finished; awaiting finish of 0 more threads\n",
            "2018-07-31 09:18:11,474 : INFO : EPOCH - 92 : training on 17642 raw words (10639 effective words) took 0.0s, 437118 effective words/s\n",
            "2018-07-31 09:18:11,485 : INFO : worker thread finished; awaiting finish of 2 more threads\n",
            "2018-07-31 09:18:11,501 : INFO : worker thread finished; awaiting finish of 1 more threads\n",
            "2018-07-31 09:18:11,506 : INFO : worker thread finished; awaiting finish of 0 more threads\n",
            "2018-07-31 09:18:11,509 : INFO : EPOCH - 93 : training on 17642 raw words (10687 effective words) took 0.0s, 412205 effective words/s\n",
            "2018-07-31 09:18:11,526 : INFO : worker thread finished; awaiting finish of 2 more threads\n",
            "2018-07-31 09:18:11,536 : INFO : worker thread finished; awaiting finish of 1 more threads\n"
          ],
          "name": "stderr"
        },
        {
          "output_type": "stream",
          "text": [
            "2018-07-31 09:18:11,546 : INFO : worker thread finished; awaiting finish of 0 more threads\n",
            "2018-07-31 09:18:11,547 : INFO : EPOCH - 94 : training on 17642 raw words (10637 effective words) took 0.0s, 384050 effective words/s\n",
            "2018-07-31 09:18:11,558 : INFO : worker thread finished; awaiting finish of 2 more threads\n",
            "2018-07-31 09:18:11,573 : INFO : worker thread finished; awaiting finish of 1 more threads\n",
            "2018-07-31 09:18:11,577 : INFO : worker thread finished; awaiting finish of 0 more threads\n",
            "2018-07-31 09:18:11,579 : INFO : EPOCH - 95 : training on 17642 raw words (10630 effective words) took 0.0s, 464667 effective words/s\n",
            "2018-07-31 09:18:11,594 : INFO : worker thread finished; awaiting finish of 2 more threads\n",
            "2018-07-31 09:18:11,608 : INFO : worker thread finished; awaiting finish of 1 more threads\n",
            "2018-07-31 09:18:11,609 : INFO : worker thread finished; awaiting finish of 0 more threads\n",
            "2018-07-31 09:18:11,613 : INFO : EPOCH - 96 : training on 17642 raw words (10682 effective words) took 0.0s, 443220 effective words/s\n",
            "2018-07-31 09:18:11,624 : INFO : worker thread finished; awaiting finish of 2 more threads\n",
            "2018-07-31 09:18:11,642 : INFO : worker thread finished; awaiting finish of 1 more threads\n",
            "2018-07-31 09:18:11,643 : INFO : worker thread finished; awaiting finish of 0 more threads\n",
            "2018-07-31 09:18:11,645 : INFO : EPOCH - 97 : training on 17642 raw words (10643 effective words) took 0.0s, 449496 effective words/s\n",
            "2018-07-31 09:18:11,659 : INFO : worker thread finished; awaiting finish of 2 more threads\n",
            "2018-07-31 09:18:11,671 : INFO : worker thread finished; awaiting finish of 1 more threads\n",
            "2018-07-31 09:18:11,678 : INFO : worker thread finished; awaiting finish of 0 more threads\n",
            "2018-07-31 09:18:11,679 : INFO : EPOCH - 98 : training on 17642 raw words (10709 effective words) took 0.0s, 455623 effective words/s\n",
            "2018-07-31 09:18:11,693 : INFO : worker thread finished; awaiting finish of 2 more threads\n",
            "2018-07-31 09:18:11,709 : INFO : worker thread finished; awaiting finish of 1 more threads\n",
            "2018-07-31 09:18:11,711 : INFO : worker thread finished; awaiting finish of 0 more threads\n",
            "2018-07-31 09:18:11,712 : INFO : EPOCH - 99 : training on 17642 raw words (10655 effective words) took 0.0s, 501835 effective words/s\n",
            "2018-07-31 09:18:11,732 : INFO : worker thread finished; awaiting finish of 2 more threads\n",
            "2018-07-31 09:18:11,748 : INFO : worker thread finished; awaiting finish of 1 more threads\n",
            "2018-07-31 09:18:11,749 : INFO : worker thread finished; awaiting finish of 0 more threads\n",
            "2018-07-31 09:18:11,751 : INFO : EPOCH - 100 : training on 17642 raw words (10615 effective words) took 0.0s, 403773 effective words/s\n",
            "2018-07-31 09:18:11,753 : INFO : training on a 1764200 raw words (1066982 effective words) took 3.4s, 315922 effective words/s\n"
          ],
          "name": "stderr"
        },
        {
          "output_type": "execute_result",
          "data": {
            "text/plain": [
              "(1066982, 1764200)"
            ]
          },
          "metadata": {
            "tags": []
          },
          "execution_count": 24
        }
      ]
    },
    {
      "metadata": {
        "id": "Mjn9OJG1o0BN",
        "colab_type": "code",
        "colab": {
          "autoexec": {
            "startup": false,
            "wait_interval": 0
          },
          "base_uri": "https://localhost:8080/",
          "height": 241
        },
        "outputId": "dcb8c532-fb7c-445c-bdf3-887c19b22950",
        "executionInfo": {
          "status": "ok",
          "timestamp": 1533028838032,
          "user_tz": 420,
          "elapsed": 279,
          "user": {
            "displayName": "Navjot Singh",
            "photoUrl": "//lh5.googleusercontent.com/-zyrw0088iZU/AAAAAAAAAAI/AAAAAAAAAXY/zotFrcGSHGo/s50-c-k-no/photo.jpg",
            "userId": "104871723712633899678"
          }
        }
      },
      "cell_type": "code",
      "source": [
        "model.wv.similar_by_word('computer')"
      ],
      "execution_count": 29,
      "outputs": [
        {
          "output_type": "stream",
          "text": [
            "/usr/local/lib/python3.6/dist-packages/gensim/matutils.py:737: FutureWarning: Conversion of the second argument of issubdtype from `int` to `np.signedinteger` is deprecated. In future, it will be treated as `np.int64 == np.dtype(int).type`.\n",
            "  if np.issubdtype(vec.dtype, np.int):\n"
          ],
          "name": "stderr"
        },
        {
          "output_type": "execute_result",
          "data": {
            "text/plain": [
              "[('science', 0.8295746445655823),\n",
              " ('fundamentals', 0.7870364785194397),\n",
              " ('individual', 0.7484782934188843),\n",
              " ('provides', 0.703237771987915),\n",
              " ('cohort', 0.683079183101654),\n",
              " ('solving', 0.6586520671844482),\n",
              " ('CS', 0.6579200625419617),\n",
              " ('certificate', 0.6513158082962036),\n",
              " ('program', 0.6393243074417114),\n",
              " ('fundamental', 0.6211526393890381)]"
            ]
          },
          "metadata": {
            "tags": []
          },
          "execution_count": 29
        }
      ]
    },
    {
      "metadata": {
        "id": "foQeaMXEoO4o",
        "colab_type": "code",
        "colab": {
          "autoexec": {
            "startup": false,
            "wait_interval": 0
          },
          "base_uri": "https://localhost:8080/",
          "height": 241
        },
        "outputId": "1a863a8c-6e19-47a4-bcfe-72dca00cf357",
        "executionInfo": {
          "status": "ok",
          "timestamp": 1533028718474,
          "user_tz": 420,
          "elapsed": 274,
          "user": {
            "displayName": "Navjot Singh",
            "photoUrl": "//lh5.googleusercontent.com/-zyrw0088iZU/AAAAAAAAAAI/AAAAAAAAAXY/zotFrcGSHGo/s50-c-k-no/photo.jpg",
            "userId": "104871723712633899678"
          }
        }
      },
      "cell_type": "code",
      "source": [
        "model.wv.similar_by_word('node')"
      ],
      "execution_count": 26,
      "outputs": [
        {
          "output_type": "stream",
          "text": [
            "/usr/local/lib/python3.6/dist-packages/gensim/matutils.py:737: FutureWarning: Conversion of the second argument of issubdtype from `int` to `np.signedinteger` is deprecated. In future, it will be treated as `np.int64 == np.dtype(int).type`.\n",
            "  if np.issubdtype(vec.dtype, np.int):\n"
          ],
          "name": "stderr"
        },
        {
          "output_type": "execute_result",
          "data": {
            "text/plain": [
              "[('express', 0.9912917613983154),\n",
              " ('redux', 0.9811919331550598),\n",
              " ('native', 0.9477207660675049),\n",
              " ('mocha', 0.9438780546188354),\n",
              " ('mongoDB', 0.9083253741264343),\n",
              " ('chai', 0.8700175285339355),\n",
              " ('react', 0.805788516998291),\n",
              " ('python', 0.7759115099906921),\n",
              " ('authentication', 0.7734363079071045),\n",
              " ('course', 0.7592689990997314)]"
            ]
          },
          "metadata": {
            "tags": []
          },
          "execution_count": 26
        }
      ]
    }
  ]
}